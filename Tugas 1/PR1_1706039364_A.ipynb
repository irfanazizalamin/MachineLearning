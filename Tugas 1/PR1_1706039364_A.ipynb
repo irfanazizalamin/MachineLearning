{
 "cells": [
  {
   "cell_type": "code",
   "execution_count": 3,
   "metadata": {},
   "outputs": [],
   "source": [
    "#Input NPM\n",
    "NPM = \"1706039364\"\n",
    "\n",
    "#Input NPM teman yang berkolaborasi dengan Anda dalam mengerjakan tugas ini\n",
    "KOLABORATOR = [\"\"]\n",
    "\n",
    "#Input link referensi atau sumber lain yang Anda gunakan dalam menyelesaikan tugas ini\n",
    "REFERENSI = [\"\"]"
   ]
  },
  {
   "cell_type": "markdown",
   "metadata": {
    "deletable": false,
    "editable": false,
    "nbgrader": {
     "cell_type": "markdown",
     "checksum": "4d44c82322844e799dd1e6746a429bf5",
     "grade": false,
     "grade_id": "cell-19f3fac69a414957",
     "locked": true,
     "schema_version": 3,
     "solution": false,
     "task": false
    }
   },
   "source": [
    "## PR 1 Decision Tree\n",
    "\n",
    "#### Tugas ini terdiri dari 2 bagian:\n",
    "\n",
    "* Implementasi (Score: 50)\n",
    "    * [Soal 1](#SOAL-1)\n",
    "    * [Soal 2](#SOAL-2)\n",
    "    * [Soal 3](#SOAL-3)\n",
    "* Demo program (Score: 50) (untuk jadwal demo akan diumumkan via scele)"
   ]
  },
  {
   "cell_type": "code",
   "execution_count": 4,
   "metadata": {
    "deletable": false,
    "editable": false,
    "nbgrader": {
     "cell_type": "code",
     "checksum": "b9ee02437f845411ccd7aaaeb99bfaa8",
     "grade": false,
     "grade_id": "cell-fbbe452f11c2455a",
     "locked": true,
     "schema_version": 3,
     "solution": false,
     "task": false
    }
   },
   "outputs": [],
   "source": [
    "from matplotlib import pyplot as plt\n",
    "import numpy as np\n",
    "import pandas as pd"
   ]
  },
  {
   "cell_type": "markdown",
   "metadata": {
    "deletable": false,
    "editable": false,
    "nbgrader": {
     "cell_type": "markdown",
     "checksum": "3249e8b66865691300eace3f5a1ed962",
     "grade": false,
     "grade_id": "cell-63676eccf7e52d84",
     "locked": true,
     "schema_version": 3,
     "solution": false,
     "task": false
    }
   },
   "source": [
    "# Dataset\n",
    "Tugas ini menggunakan <b>Dataset Pasien Liver</b> yang terdiri dari \n",
    " - 2 kelas (<i>Pasien Liver (1)</i> dan <i>Non Pasien Liver (2)</i>)\n",
    " - 10 atribut \n",
    "     \n",
    "     * usia\n",
    "     * jenis kelamin\n",
    "     * TB (Total Bilirubin)\n",
    "     * DB (Direct Bilirubin)\n",
    "     * AAP (Alkphos Alkaline Phosphotase)\n",
    "     * Sgpt Alamine Aminotransferase\n",
    "     * Sgot Aspartate Aminotransferase\n",
    "     * TP (Total Protein)\n",
    "     * ALB (Albumin)\n",
    "     * A/G Ratio Albumin dan Globulin Ratio\n",
    "     \n",
    " - 200 baris data\n",
    " \n",
    "Anda dipersilahkan melakukan tahapan <b>preprocessing data</b> terlebih dahulu.\n",
    "Tahapan preprocessing yang dapat dilakukan antara lain,\n",
    "* Encode categorical data\n",
    "* Menangani missing value yang ada di dataset\n",
    "* Konversi continuous data\n",
    "* Normalisasi data value\n",
    "* dan sebagainya...\n",
    "\n",
    "Kemudian data dibagi menjadi <i>classification_data</i> dan <i>classification_label</i>."
   ]
  },
  {
   "cell_type": "code",
   "execution_count": 5,
   "metadata": {
    "deletable": false,
    "editable": false,
    "nbgrader": {
     "cell_type": "code",
     "checksum": "9dd087405a7c8e91d00b63823e075a8c",
     "grade": false,
     "grade_id": "cell-ad88d9f6cd5656f5",
     "locked": true,
     "schema_version": 3,
     "solution": false,
     "task": false
    }
   },
   "outputs": [
    {
     "data": {
      "text/html": [
       "<div>\n",
       "<style scoped>\n",
       "    .dataframe tbody tr th:only-of-type {\n",
       "        vertical-align: middle;\n",
       "    }\n",
       "\n",
       "    .dataframe tbody tr th {\n",
       "        vertical-align: top;\n",
       "    }\n",
       "\n",
       "    .dataframe thead th {\n",
       "        text-align: right;\n",
       "    }\n",
       "</style>\n",
       "<table border=\"1\" class=\"dataframe\">\n",
       "  <thead>\n",
       "    <tr style=\"text-align: right;\">\n",
       "      <th></th>\n",
       "      <th>0</th>\n",
       "      <th>1</th>\n",
       "      <th>2</th>\n",
       "      <th>3</th>\n",
       "      <th>4</th>\n",
       "      <th>5</th>\n",
       "      <th>6</th>\n",
       "      <th>7</th>\n",
       "      <th>8</th>\n",
       "      <th>9</th>\n",
       "      <th>10</th>\n",
       "    </tr>\n",
       "  </thead>\n",
       "  <tbody>\n",
       "    <tr>\n",
       "      <th>0</th>\n",
       "      <td>30</td>\n",
       "      <td>Female</td>\n",
       "      <td>0.7</td>\n",
       "      <td>0.2</td>\n",
       "      <td>63.0</td>\n",
       "      <td>31.0</td>\n",
       "      <td>27</td>\n",
       "      <td>5.8</td>\n",
       "      <td>3.4</td>\n",
       "      <td>1.40</td>\n",
       "      <td>1</td>\n",
       "    </tr>\n",
       "    <tr>\n",
       "      <th>1</th>\n",
       "      <td>29</td>\n",
       "      <td>Male</td>\n",
       "      <td>1.0</td>\n",
       "      <td>0.3</td>\n",
       "      <td>75.0</td>\n",
       "      <td>25.0</td>\n",
       "      <td>26</td>\n",
       "      <td>5.1</td>\n",
       "      <td>2.9</td>\n",
       "      <td>1.30</td>\n",
       "      <td>1</td>\n",
       "    </tr>\n",
       "    <tr>\n",
       "      <th>2</th>\n",
       "      <td>50</td>\n",
       "      <td>Male</td>\n",
       "      <td>7.3</td>\n",
       "      <td>3.7</td>\n",
       "      <td>92.0</td>\n",
       "      <td>44.0</td>\n",
       "      <td>236</td>\n",
       "      <td>6.8</td>\n",
       "      <td>1.6</td>\n",
       "      <td>0.30</td>\n",
       "      <td>1</td>\n",
       "    </tr>\n",
       "    <tr>\n",
       "      <th>3</th>\n",
       "      <td>45</td>\n",
       "      <td>Male</td>\n",
       "      <td>1.1</td>\n",
       "      <td>0.4</td>\n",
       "      <td>92.0</td>\n",
       "      <td>91.0</td>\n",
       "      <td>188</td>\n",
       "      <td>7.2</td>\n",
       "      <td>3.8</td>\n",
       "      <td>1.11</td>\n",
       "      <td>1</td>\n",
       "    </tr>\n",
       "    <tr>\n",
       "      <th>4</th>\n",
       "      <td>52</td>\n",
       "      <td>Male</td>\n",
       "      <td>1.8</td>\n",
       "      <td>0.8</td>\n",
       "      <td>97.0</td>\n",
       "      <td>85.0</td>\n",
       "      <td>78</td>\n",
       "      <td>6.4</td>\n",
       "      <td>2.7</td>\n",
       "      <td>0.70</td>\n",
       "      <td>1</td>\n",
       "    </tr>\n",
       "    <tr>\n",
       "      <th>5</th>\n",
       "      <td>40</td>\n",
       "      <td>Male</td>\n",
       "      <td>0.6</td>\n",
       "      <td>0.1</td>\n",
       "      <td>98.0</td>\n",
       "      <td>35.0</td>\n",
       "      <td>31</td>\n",
       "      <td>6.0</td>\n",
       "      <td>3.2</td>\n",
       "      <td>1.10</td>\n",
       "      <td>1</td>\n",
       "    </tr>\n",
       "    <tr>\n",
       "      <th>6</th>\n",
       "      <td>58</td>\n",
       "      <td>Male</td>\n",
       "      <td>0.4</td>\n",
       "      <td>0.1</td>\n",
       "      <td>100.0</td>\n",
       "      <td>59.0</td>\n",
       "      <td>126</td>\n",
       "      <td>4.3</td>\n",
       "      <td>2.5</td>\n",
       "      <td>1.40</td>\n",
       "      <td>1</td>\n",
       "    </tr>\n",
       "    <tr>\n",
       "      <th>7</th>\n",
       "      <td>72</td>\n",
       "      <td>Male</td>\n",
       "      <td>0.6</td>\n",
       "      <td>0.1</td>\n",
       "      <td>102.0</td>\n",
       "      <td>31.0</td>\n",
       "      <td>35</td>\n",
       "      <td>6.3</td>\n",
       "      <td>3.2</td>\n",
       "      <td>1.00</td>\n",
       "      <td>1</td>\n",
       "    </tr>\n",
       "    <tr>\n",
       "      <th>8</th>\n",
       "      <td>62</td>\n",
       "      <td>Male</td>\n",
       "      <td>5.0</td>\n",
       "      <td>2.1</td>\n",
       "      <td>103.0</td>\n",
       "      <td>18.0</td>\n",
       "      <td>40</td>\n",
       "      <td>5.0</td>\n",
       "      <td>2.1</td>\n",
       "      <td>1.72</td>\n",
       "      <td>1</td>\n",
       "    </tr>\n",
       "    <tr>\n",
       "      <th>9</th>\n",
       "      <td>35</td>\n",
       "      <td>Male</td>\n",
       "      <td>26.3</td>\n",
       "      <td>12.1</td>\n",
       "      <td>108.0</td>\n",
       "      <td>168.0</td>\n",
       "      <td>630</td>\n",
       "      <td>9.2</td>\n",
       "      <td>2.0</td>\n",
       "      <td>0.30</td>\n",
       "      <td>1</td>\n",
       "    </tr>\n",
       "  </tbody>\n",
       "</table>\n",
       "</div>"
      ],
      "text/plain": [
       "   0       1     2     3      4      5    6    7    8     9   10\n",
       "0  30  Female   0.7   0.2   63.0   31.0   27  5.8  3.4  1.40   1\n",
       "1  29    Male   1.0   0.3   75.0   25.0   26  5.1  2.9  1.30   1\n",
       "2  50    Male   7.3   3.7   92.0   44.0  236  6.8  1.6  0.30   1\n",
       "3  45    Male   1.1   0.4   92.0   91.0  188  7.2  3.8  1.11   1\n",
       "4  52    Male   1.8   0.8   97.0   85.0   78  6.4  2.7  0.70   1\n",
       "5  40    Male   0.6   0.1   98.0   35.0   31  6.0  3.2  1.10   1\n",
       "6  58    Male   0.4   0.1  100.0   59.0  126  4.3  2.5  1.40   1\n",
       "7  72    Male   0.6   0.1  102.0   31.0   35  6.3  3.2  1.00   1\n",
       "8  62    Male   5.0   2.1  103.0   18.0   40  5.0  2.1  1.72   1\n",
       "9  35    Male  26.3  12.1  108.0  168.0  630  9.2  2.0  0.30   1"
      ]
     },
     "execution_count": 5,
     "metadata": {},
     "output_type": "execute_result"
    }
   ],
   "source": [
    "dataset = pd.read_csv(\"pasien_liver.csv\", header=None) #load the dataset\n",
    "dataset.head(10)"
   ]
  },
  {
   "cell_type": "code",
   "execution_count": 8,
   "metadata": {},
   "outputs": [
    {
     "data": {
      "text/plain": [
       "0      0.0\n",
       "1      1.0\n",
       "2      1.0\n",
       "3      1.0\n",
       "4      1.0\n",
       "5      1.0\n",
       "6      1.0\n",
       "7      1.0\n",
       "8      1.0\n",
       "9      1.0\n",
       "10     1.0\n",
       "11     1.0\n",
       "12     0.0\n",
       "13     1.0\n",
       "14     1.0\n",
       "15     1.0\n",
       "16     1.0\n",
       "17     0.0\n",
       "18     0.0\n",
       "19     0.0\n",
       "20     0.0\n",
       "21     0.0\n",
       "22     1.0\n",
       "23     1.0\n",
       "24     1.0\n",
       "25     1.0\n",
       "26     1.0\n",
       "27     1.0\n",
       "28     1.0\n",
       "29     0.0\n",
       "      ... \n",
       "170    1.0\n",
       "171    1.0\n",
       "172    1.0\n",
       "173    1.0\n",
       "174    1.0\n",
       "175    0.0\n",
       "176    1.0\n",
       "177    0.0\n",
       "178    1.0\n",
       "179    1.0\n",
       "180    0.0\n",
       "181    1.0\n",
       "182    1.0\n",
       "183    0.0\n",
       "184    1.0\n",
       "185    1.0\n",
       "186    1.0\n",
       "187    1.0\n",
       "188    0.0\n",
       "189    1.0\n",
       "190    0.0\n",
       "191    0.0\n",
       "192    1.0\n",
       "193    0.0\n",
       "194    1.0\n",
       "195    1.0\n",
       "196    0.0\n",
       "197    1.0\n",
       "198    1.0\n",
       "199    0.0\n",
       "Name: 1, Length: 200, dtype: float64"
      ]
     },
     "execution_count": 8,
     "metadata": {},
     "output_type": "execute_result"
    }
   ],
   "source": [
    "# PREPROCESSING DATA\n",
    "dataset = dataset.fillna(dataset.mean()) #filled by mean\n",
    "dataset.iloc[:,:10]\n",
    "\n",
    "if (dataset[1].dtypes == 'O'):\n",
    "    dataset[1][dataset[1] == \"Male\"] = 1\n",
    "    dataset[1][dataset[1] == \"Female\"] = 0\n",
    "\n",
    "dataset.iloc[:,:10] = ((dataset-dataset.min())/(dataset.max()-dataset.min()))"
   ]
  },
  {
   "cell_type": "code",
   "execution_count": 2,
   "metadata": {
    "deletable": false,
    "editable": false,
    "nbgrader": {
     "cell_type": "code",
     "checksum": "d4f16df5f07a16b04096366c4e7d4a69",
     "grade": false,
     "grade_id": "cell-a091e7e3b284877b",
     "locked": true,
     "schema_version": 3,
     "solution": false,
     "task": false
    }
   },
   "outputs": [
    {
     "ename": "NameError",
     "evalue": "name 'dataset' is not defined",
     "output_type": "error",
     "traceback": [
      "\u001b[1;31m---------------------------------------------------------------------------\u001b[0m",
      "\u001b[1;31mNameError\u001b[0m                                 Traceback (most recent call last)",
      "\u001b[1;32m<ipython-input-2-a6c5f3125c29>\u001b[0m in \u001b[0;36m<module>\u001b[1;34m\u001b[0m\n\u001b[1;32m----> 1\u001b[1;33m \u001b[0mclassification_data\u001b[0m \u001b[1;33m=\u001b[0m \u001b[0mdataset\u001b[0m\u001b[1;33m.\u001b[0m\u001b[0mdrop\u001b[0m\u001b[1;33m(\u001b[0m\u001b[1;33m[\u001b[0m\u001b[1;36m10\u001b[0m\u001b[1;33m]\u001b[0m\u001b[1;33m,\u001b[0m \u001b[0maxis\u001b[0m\u001b[1;33m=\u001b[0m\u001b[1;36m1\u001b[0m\u001b[1;33m)\u001b[0m\u001b[1;33m.\u001b[0m\u001b[0mvalues\u001b[0m\u001b[1;33m\u001b[0m\u001b[1;33m\u001b[0m\u001b[0m\n\u001b[0m\u001b[0;32m      2\u001b[0m \u001b[0mclassification_label\u001b[0m \u001b[1;33m=\u001b[0m \u001b[0mdataset\u001b[0m\u001b[1;33m[\u001b[0m\u001b[1;36m10\u001b[0m\u001b[1;33m]\u001b[0m\u001b[1;33m.\u001b[0m\u001b[0mvalues\u001b[0m\u001b[1;33m\u001b[0m\u001b[1;33m\u001b[0m\u001b[0m\n",
      "\u001b[1;31mNameError\u001b[0m: name 'dataset' is not defined"
     ]
    }
   ],
   "source": [
    "classification_data = dataset.drop([10], axis=1).values\n",
    "classification_label = dataset[10].values"
   ]
  },
  {
   "cell_type": "markdown",
   "metadata": {
    "deletable": false,
    "editable": false,
    "nbgrader": {
     "cell_type": "markdown",
     "checksum": "1eadbfa88846d8ce141613c905bb7a61",
     "grade": false,
     "grade_id": "cell-f931fef26dcdf594",
     "locked": true,
     "schema_version": 3,
     "solution": false,
     "task": false
    }
   },
   "source": [
    "## SOAL 1\n",
    "\n",
    "### DECISION TREE CLASS\n",
    "\n",
    "\n",
    "Bangunlah <b>Decision Tree Class</b> untuk mengklasifikasi dataset yang diberikan dengan ketentuan sebagai berikut,\n",
    "\n",
    "   - Silahkan untuk menjawab di bagian <b># YOUR CODE HERE</b>\n",
    "\n",
    "   - Jangan mengubah class dan method yang sudah ada, tetapi Anda dipersilahkan untuk menambah parameter, variabel, atau method baru jika diperlukan\n",
    "\n",
    "   - Library yang boleh digunakan hanya Numpy, Pandas, dan Matplotlib \n",
    "\n",
    "   - Berikan penjelasan singkat mengenai code yang Anda bangun\n",
    "    \n",
    "   - Terdapat beberapa parameter yang dapat dipakai dalam pembangunan Decision Class Tree untuk optimisasi model atau menangani beberapa masalah (issue) yang ada di Decision Tree (referensi https://towardsdatascience.com/machine-learning-basics-descision-tree-from-scratch-part-ii-dee664d46831)\n"
   ]
  },
  {
   "cell_type": "code",
   "execution_count": 328,
   "metadata": {
    "deletable": false,
    "nbgrader": {
     "cell_type": "code",
     "checksum": "6c61bbd0ccc32c19c5a4e4c3859633b5",
     "grade": true,
     "grade_id": "cell-d5294cf249b8f57d",
     "locked": false,
     "points": 50,
     "schema_version": 3,
     "solution": true,
     "task": false
    }
   },
   "outputs": [],
   "source": [
    "class DecisionTreeClassifier:\n",
    "    def __init__(self, max_depth=20, min_samples_split=2):\n",
    "        self.depth = 0\n",
    "        self.max_depth = max_depth\n",
    "        self.min_samples_split = min_samples_split\n",
    "        self.trees = None\n",
    "        \n",
    "    \n",
    "    def fit(self, X, y, par_node={}, depth=0):\n",
    "        if (par_node is None):\n",
    "            return None\n",
    "        elif len(y) == 0:\n",
    "            return None\n",
    "        elif self.all_same(y):\n",
    "            return {'val':y[0]}\n",
    "        elif depth >= self.max_depth:\n",
    "            return None\n",
    "        else:\n",
    "            col, boundary, entropy = self.split_all(X,y)\n",
    "            y_left = y[X[:, col] < boundary]\n",
    "            y_right = y[X[:, col] >= boundary]\n",
    "            par_node = {'col': col,\n",
    "                        'index_col': col,\n",
    "                        'boundary': boundary,\n",
    "                        'val': np.round(np.mean(y))\n",
    "                       }\n",
    "            par_node['left'] = self.fit(X[X[:, col] < boundary], y_left, {}, depth+1)\n",
    "            par_node['right'] = self.fit(X[X[:, col] >= boundary], y_right, {}, depth+1)\n",
    "            self.depth += 1 \n",
    "            self.trees = par_node\n",
    "            return par_node\n",
    "\n",
    "    def predict_proba(self, X):\n",
    "        current_layer = self.trees\n",
    "        val = 0\n",
    "        try:\n",
    "            while current_layer.get('boundary'):\n",
    "                val = current_layer.get('val')\n",
    "                if X[current_layer['index_col']] < current_layer['boundary']:\n",
    "                    current_layer = current_layer['left']\n",
    "                else:\n",
    "                    current_layer = current_layer['right']\n",
    "            else:\n",
    "                return current_layer.get('val')\n",
    "        except:\n",
    "            return val\n",
    "\n",
    "    def predict(self, X):\n",
    "        tree = self.trees\n",
    "        results = np.array([0]*len(X))\n",
    "        for i, c in enumerate(X):\n",
    "            results[i] = self.predict_proba(c)\n",
    "        return results\n",
    "    \n",
    "    def split_all(self, X, y):\n",
    "        col = None\n",
    "        min_entropy = 1\n",
    "        boundary = None\n",
    "        for i, c in enumerate(X.T):\n",
    "            entropy, current_boundary = self.split(c,y)\n",
    "            if (entropy == 0):\n",
    "                return i, current_boundary, entropy\n",
    "            elif entropy <= min_entropy:\n",
    "                min_entropy = entropy\n",
    "                col = i\n",
    "                boundary = current_boundary\n",
    "        return col, boundary, min_entropy\n",
    "            \n",
    "    def split(self, col, y):\n",
    "        min_entropy = 10\n",
    "        n = len(y)\n",
    "        for value in set(col):\n",
    "            y_predict = col < value\n",
    "            my_entropy = get_entropy(y_predict, y)\n",
    "            if (my_entropy <= min_entropy):\n",
    "                min_entropy = my_entropy\n",
    "                boundary = value\n",
    "        return min_entropy, boundary\n",
    "    \n",
    "    def all_same(self, items):\n",
    "        return all(X == items[0] for X in items)"
   ]
  },
  {
   "cell_type": "code",
   "execution_count": 329,
   "metadata": {},
   "outputs": [],
   "source": [
    "def change_feature_name(i):\n",
    "    new_feature_name = [\n",
    "        \"Usia\",\n",
    "        \"JK\",\n",
    "        \"TB\",\n",
    "        \"DB\",\n",
    "        \"AAP\",\n",
    "        \"Sgpt\",\n",
    "        \"Sgot\",\n",
    "        \"TP\",\n",
    "        \"ALB\",\n",
    "        \"A/G\"\n",
    "    ]\n",
    "    return new_feature_name[i]"
   ]
  },
  {
   "cell_type": "code",
   "execution_count": 330,
   "metadata": {},
   "outputs": [],
   "source": [
    "import math\n",
    "\n",
    "def entropy_func(c, n):\n",
    "    return -(c*1.0/n) * math.log(c * 1.0/n, 2)\n",
    "\n",
    "def entropy_cal(c1, c2):\n",
    "    if c1== 0 or c2 == 0:\n",
    "        return 0\n",
    "    return entropy_func(c1, c1+c2) + entropy_func(c2, c1+c2)\n",
    "\n",
    "def entropy_of_one_division(division): \n",
    "    s = 0\n",
    "    n = len(division)\n",
    "    classes = set(division)\n",
    "    for c in classes:\n",
    "        n_c = sum(division==c)\n",
    "        e = n_c*1.0/n * entropy_cal(sum(division==c), sum(division!=c))\n",
    "        s += e\n",
    "    return s, n\n",
    "\n",
    "def get_entropy(y_predict, y_real):\n",
    "    if len(y_predict) != len(y_real):\n",
    "        return None\n",
    "    n = len(y_real)\n",
    "    s_true, n_true = entropy_of_one_division(y_real[y_predict])\n",
    "    s_false, n_false = entropy_of_one_division(y_real[~y_predict])\n",
    "    s = n_true*1.0/n * s_true + n_false*1.0/n * s_false\n",
    "    return s"
   ]
  },
  {
   "cell_type": "markdown",
   "metadata": {
    "deletable": false,
    "editable": false,
    "nbgrader": {
     "cell_type": "markdown",
     "checksum": "7e152ecd6c9d5518d582065703cf64e9",
     "grade": false,
     "grade_id": "cell-62c4d26a994c768b",
     "locked": true,
     "schema_version": 3,
     "solution": false,
     "task": false
    }
   },
   "source": [
    "### Test terhadap Decision Tree Class yang telah dibangun"
   ]
  },
  {
   "cell_type": "code",
   "execution_count": 331,
   "metadata": {
    "deletable": false,
    "editable": false,
    "nbgrader": {
     "cell_type": "code",
     "checksum": "359d0bb14e8deecea9fa5bc2c8c8f895",
     "grade": false,
     "grade_id": "cell-d9f9e629040b643a",
     "locked": true,
     "schema_version": 3,
     "solution": false,
     "task": false
    }
   },
   "outputs": [],
   "source": [
    "# Train all data until pure\n",
    "dt = DecisionTreeClassifier()\n",
    "dt.fit(classification_data, classification_label)\n",
    "np.testing.assert_almost_equal(dt.predict(classification_data), classification_label)"
   ]
  },
  {
   "cell_type": "markdown",
   "metadata": {
    "deletable": false,
    "editable": false,
    "nbgrader": {
     "cell_type": "markdown",
     "checksum": "917848f69d758109b44569a696f032bc",
     "grade": false,
     "grade_id": "cell-20b69acd3c693856",
     "locked": true,
     "schema_version": 3,
     "solution": false,
     "task": false
    }
   },
   "source": [
    "### Implementasi Decision Tree Model dalam training dan testing data"
   ]
  },
  {
   "cell_type": "code",
   "execution_count": 332,
   "metadata": {
    "deletable": false,
    "editable": false,
    "nbgrader": {
     "cell_type": "code",
     "checksum": "df9623d8c6b457e829aaaa5a6ebb7a05",
     "grade": false,
     "grade_id": "cell-71ad3cb998d3ceec",
     "locked": true,
     "schema_version": 3,
     "solution": false,
     "task": false
    }
   },
   "outputs": [],
   "source": [
    "from random import seed\n",
    "from random import randrange\n",
    "from numpy import empty\n",
    "\n",
    "# Split a dataset into a train and test set\n",
    "def train_test_split(data, label, split=0.60):\n",
    "    train_data = []\n",
    "    train_label = []\n",
    "    train_size = split * len(data)\n",
    "    data_copy = data.tolist()\n",
    "    label_copy = label.tolist()\n",
    "    while len(train_data) < train_size:\n",
    "        index = randrange(len(data_copy))\n",
    "        train_data.append(data_copy.pop(index))\n",
    "        train_label.append(label_copy.pop(index))\n",
    "    \n",
    "    train_data = np.array(train_data)\n",
    "    train_label = np.array(train_label)\n",
    "    data_copy = np.array(data_copy)\n",
    "    label_copy = np.array(label_copy)\n",
    "    return train_data, train_label, data_copy, label_copy   "
   ]
  },
  {
   "cell_type": "markdown",
   "metadata": {},
   "source": [
    "#### Silahkan melakukan pembagian data untuk training dan testing (default 60:40)"
   ]
  },
  {
   "cell_type": "code",
   "execution_count": 333,
   "metadata": {},
   "outputs": [],
   "source": [
    "# test train/test split\n",
    "seed(5)\n",
    "x_train_clf, y_train_clf, x_val_clf, y_val_clf = train_test_split(classification_data,classification_label)"
   ]
  },
  {
   "cell_type": "code",
   "execution_count": 337,
   "metadata": {},
   "outputs": [
    {
     "data": {
      "text/plain": [
       "{'col': 0,\n",
       " 'index_col': 0,\n",
       " 'boundary': 0.4074074074074074,\n",
       " 'val': 1.0,\n",
       " 'left': {'col': 3,\n",
       "  'index_col': 3,\n",
       "  'boundary': 0.24409448818897636,\n",
       "  'val': 2.0,\n",
       "  'left': {'col': 4,\n",
       "   'index_col': 4,\n",
       "   'boundary': 0.013190034196384953,\n",
       "   'val': 2.0,\n",
       "   'left': {'val': 1},\n",
       "   'right': {'col': 8,\n",
       "    'index_col': 8,\n",
       "    'boundary': 0.525,\n",
       "    'val': 2.0,\n",
       "    'left': {'val': 2},\n",
       "    'right': {'col': 4,\n",
       "     'index_col': 4,\n",
       "     'boundary': 0.16511968734733756,\n",
       "     'val': 2.0,\n",
       "     'left': {'col': 4,\n",
       "      'index_col': 4,\n",
       "      'boundary': 0.05569125549584758,\n",
       "      'val': 2.0,\n",
       "      'left': {'col': 5,\n",
       "       'index_col': 5,\n",
       "       'boundary': 0.008870967741935484,\n",
       "       'val': 2.0,\n",
       "       'left': {'val': 2},\n",
       "       'right': None},\n",
       "      'right': {'val': 2}},\n",
       "     'right': {'val': 1}}}},\n",
       "  'right': {'val': 1}},\n",
       " 'right': {'col': 0,\n",
       "  'index_col': 0,\n",
       "  'boundary': 0.691358024691358,\n",
       "  'val': 1.0,\n",
       "  'left': {'val': 1},\n",
       "  'right': {'col': 4,\n",
       "   'index_col': 4,\n",
       "   'boundary': 0.19296531509526135,\n",
       "   'val': 1.0,\n",
       "   'left': {'col': 8,\n",
       "    'index_col': 8,\n",
       "    'boundary': 0.625,\n",
       "    'val': 2.0,\n",
       "    'left': {'col': 6,\n",
       "     'index_col': 6,\n",
       "     'boundary': 0.0028461069323033137,\n",
       "     'val': 2.0,\n",
       "     'left': {'val': 2},\n",
       "     'right': {'col': 4,\n",
       "      'index_col': 4,\n",
       "      'boundary': 0.08500244259892525,\n",
       "      'val': 1.0,\n",
       "      'left': {'col': 6,\n",
       "       'index_col': 6,\n",
       "       'boundary': 0.020329335230737954,\n",
       "       'val': 1.0,\n",
       "       'left': {'val': 1},\n",
       "       'right': {'val': 2}},\n",
       "      'right': {'col': 0,\n",
       "       'index_col': 0,\n",
       "       'boundary': 0.8765432098765432,\n",
       "       'val': 2.0,\n",
       "       'left': {'val': 2},\n",
       "       'right': {'val': 1}}}},\n",
       "    'right': {'val': 2}},\n",
       "   'right': {'val': 1}}}}"
      ]
     },
     "execution_count": 337,
     "metadata": {},
     "output_type": "execute_result"
    }
   ],
   "source": [
    "# PLAYGROUND\n",
    "# you can do anything here as long as not adding any new import\n",
    "\n",
    "dt_default = DecisionTreeClassifier()\n",
    "dt_default.fit(x_train_clf, y_train_clf)\n",
    "dt1 = DecisionTreeClassifier(max_depth=2)\n",
    "dt1.fit(x_train_clf, y_train_clf)\n",
    "dt2 = DecisionTreeClassifier(max_depth=3)\n",
    "dt2.fit(x_train_clf, y_train_clf)\n",
    "dt3 = DecisionTreeClassifier(max_depth=5)\n",
    "dt3.fit(x_train_clf, y_train_clf)\n",
    "dt4 = DecisionTreeClassifier(max_depth=6)\n",
    "dt4.fit(x_train_clf, y_train_clf)\n",
    "dt5 = DecisionTreeClassifier(max_depth=7)\n",
    "dt5.fit(x_train_clf, y_train_clf)"
   ]
  },
  {
   "cell_type": "markdown",
   "metadata": {
    "deletable": false,
    "editable": false,
    "nbgrader": {
     "cell_type": "markdown",
     "checksum": "db3ab6e5c31496d10cd3453da7c2e7f0",
     "grade": false,
     "grade_id": "cell-478f46679516d9f6",
     "locked": true,
     "schema_version": 3,
     "solution": false,
     "task": false
    }
   },
   "source": [
    "### Evaluasi"
   ]
  },
  {
   "cell_type": "code",
   "execution_count": 338,
   "metadata": {
    "deletable": false,
    "editable": false,
    "nbgrader": {
     "cell_type": "code",
     "checksum": "0a19997cd46af9aa763267065eccb0c5",
     "grade": false,
     "grade_id": "cell-d11fa39fcc83ddf5",
     "locked": true,
     "schema_version": 3,
     "solution": false,
     "task": false
    }
   },
   "outputs": [],
   "source": [
    "from sklearn.metrics import accuracy_score \n",
    "from sklearn.metrics import confusion_matrix \n",
    "from sklearn.metrics import classification_report \n",
    "\n",
    "# Function to calculate accuracy \n",
    "def cal_accuracy(y_test, y_pred): \n",
    "      \n",
    "    print(\"* Confusion Matrix\") \n",
    "    print(pd.DataFrame(confusion_matrix(y_test, y_pred), \\\n",
    "            index = ['Actual Pasien Liver', 'Actual Pasien Non-Liver'], \\\n",
    "            columns = ['Pred Pasien Liver', 'Pred Pasien Non-Liver'])) \n",
    "      \n",
    "    print (\"\\n* Accuracy : \", \n",
    "    accuracy_score(y_test,y_pred)*100) \n",
    "      \n",
    "    print(\"\\n* Classification Report :\\n\", \n",
    "    classification_report(y_test, y_pred)) "
   ]
  },
  {
   "cell_type": "code",
   "execution_count": 339,
   "metadata": {
    "deletable": false,
    "editable": false,
    "nbgrader": {
     "cell_type": "code",
     "checksum": "bb0945666f5f1a71930f82a0fe5261b5",
     "grade": false,
     "grade_id": "cell-f15216cb2a3d07eb",
     "locked": true,
     "schema_version": 3,
     "solution": false,
     "task": false
    }
   },
   "outputs": [],
   "source": [
    "dt_y_predict = (dt_default.predict(x_val_clf))\n",
    "dt1_y_predict = (dt1.predict(x_val_clf))\n",
    "dt2_y_predict = (dt2.predict(x_val_clf))\n",
    "dt3_y_predict = (dt3.predict(x_val_clf))"
   ]
  },
  {
   "cell_type": "code",
   "execution_count": 345,
   "metadata": {},
   "outputs": [],
   "source": [
    "dt4_y_predict = (dt4.predict(x_val_clf))\n",
    "dt5_y_predict = (dt5.predict(x_val_clf))\n",
    "dt6_y_predict = (dt6.predict(x_val_clf))"
   ]
  },
  {
   "cell_type": "code",
   "execution_count": 346,
   "metadata": {
    "deletable": false,
    "editable": false,
    "nbgrader": {
     "cell_type": "code",
     "checksum": "00eae56a20d9d4b05b44223577b1e827",
     "grade": false,
     "grade_id": "cell-757100c31b6bc2f2",
     "locked": true,
     "schema_version": 3,
     "solution": false,
     "task": false
    }
   },
   "outputs": [
    {
     "name": "stdout",
     "output_type": "stream",
     "text": [
      "* Confusion Matrix\n",
      "                         Pred Pasien Liver  Pred Pasien Non-Liver\n",
      "Actual Pasien Liver                     29                     10\n",
      "Actual Pasien Non-Liver                 14                     27\n",
      "\n",
      "* Accuracy :  70.0\n",
      "\n",
      "* Classification Report :\n",
      "               precision    recall  f1-score   support\n",
      "\n",
      "           1       0.67      0.74      0.71        39\n",
      "           2       0.73      0.66      0.69        41\n",
      "\n",
      "    accuracy                           0.70        80\n",
      "   macro avg       0.70      0.70      0.70        80\n",
      "weighted avg       0.70      0.70      0.70        80\n",
      "\n"
     ]
    }
   ],
   "source": [
    "cal_accuracy(y_val_clf, dt_y_predict)"
   ]
  },
  {
   "cell_type": "code",
   "execution_count": 347,
   "metadata": {
    "deletable": false,
    "editable": false,
    "nbgrader": {
     "cell_type": "code",
     "checksum": "c6c4584a3c4bec0d15d30c0d90e4feb4",
     "grade": false,
     "grade_id": "cell-3699b11d62d16509",
     "locked": true,
     "schema_version": 3,
     "solution": false,
     "task": false
    }
   },
   "outputs": [
    {
     "name": "stdout",
     "output_type": "stream",
     "text": [
      "* Confusion Matrix\n",
      "                         Pred Pasien Liver  Pred Pasien Non-Liver\n",
      "Actual Pasien Liver                     30                      9\n",
      "Actual Pasien Non-Liver                 15                     26\n",
      "\n",
      "* Accuracy :  70.0\n",
      "\n",
      "* Classification Report :\n",
      "               precision    recall  f1-score   support\n",
      "\n",
      "           1       0.67      0.77      0.71        39\n",
      "           2       0.74      0.63      0.68        41\n",
      "\n",
      "    accuracy                           0.70        80\n",
      "   macro avg       0.70      0.70      0.70        80\n",
      "weighted avg       0.71      0.70      0.70        80\n",
      "\n"
     ]
    }
   ],
   "source": [
    "cal_accuracy(y_val_clf, dt1_y_predict)"
   ]
  },
  {
   "cell_type": "code",
   "execution_count": 348,
   "metadata": {
    "deletable": false,
    "editable": false,
    "nbgrader": {
     "cell_type": "code",
     "checksum": "0b4f31d97a79d668acf0f2d2e998d7ba",
     "grade": false,
     "grade_id": "cell-1e86afa9d59f5273",
     "locked": true,
     "schema_version": 3,
     "solution": false,
     "task": false
    }
   },
   "outputs": [
    {
     "name": "stdout",
     "output_type": "stream",
     "text": [
      "* Confusion Matrix\n",
      "                         Pred Pasien Liver  Pred Pasien Non-Liver\n",
      "Actual Pasien Liver                     30                      9\n",
      "Actual Pasien Non-Liver                 15                     26\n",
      "\n",
      "* Accuracy :  70.0\n",
      "\n",
      "* Classification Report :\n",
      "               precision    recall  f1-score   support\n",
      "\n",
      "           1       0.67      0.77      0.71        39\n",
      "           2       0.74      0.63      0.68        41\n",
      "\n",
      "    accuracy                           0.70        80\n",
      "   macro avg       0.70      0.70      0.70        80\n",
      "weighted avg       0.71      0.70      0.70        80\n",
      "\n"
     ]
    }
   ],
   "source": [
    "cal_accuracy(y_val_clf, dt2_y_predict)"
   ]
  },
  {
   "cell_type": "code",
   "execution_count": 349,
   "metadata": {
    "deletable": false,
    "editable": false,
    "nbgrader": {
     "cell_type": "code",
     "checksum": "407c8f9057f634476a34b052618933c8",
     "grade": false,
     "grade_id": "cell-1fe4b3213fb61c9f",
     "locked": true,
     "schema_version": 3,
     "solution": false,
     "task": false
    },
    "scrolled": true
   },
   "outputs": [
    {
     "name": "stdout",
     "output_type": "stream",
     "text": [
      "* Confusion Matrix\n",
      "                         Pred Pasien Liver  Pred Pasien Non-Liver\n",
      "Actual Pasien Liver                     27                     12\n",
      "Actual Pasien Non-Liver                  4                     37\n",
      "\n",
      "* Accuracy :  80.0\n",
      "\n",
      "* Classification Report :\n",
      "               precision    recall  f1-score   support\n",
      "\n",
      "           1       0.87      0.69      0.77        39\n",
      "           2       0.76      0.90      0.82        41\n",
      "\n",
      "    accuracy                           0.80        80\n",
      "   macro avg       0.81      0.80      0.80        80\n",
      "weighted avg       0.81      0.80      0.80        80\n",
      "\n"
     ]
    }
   ],
   "source": [
    "cal_accuracy(y_val_clf, dt3_y_predict)"
   ]
  },
  {
   "cell_type": "code",
   "execution_count": 352,
   "metadata": {},
   "outputs": [
    {
     "name": "stdout",
     "output_type": "stream",
     "text": [
      "* Confusion Matrix\n",
      "                         Pred Pasien Liver  Pred Pasien Non-Liver\n",
      "Actual Pasien Liver                     30                      9\n",
      "Actual Pasien Non-Liver                 10                     31\n",
      "\n",
      "* Accuracy :  76.25\n",
      "\n",
      "* Classification Report :\n",
      "               precision    recall  f1-score   support\n",
      "\n",
      "           1       0.75      0.77      0.76        39\n",
      "           2       0.78      0.76      0.77        41\n",
      "\n",
      "    accuracy                           0.76        80\n",
      "   macro avg       0.76      0.76      0.76        80\n",
      "weighted avg       0.76      0.76      0.76        80\n",
      "\n"
     ]
    }
   ],
   "source": [
    "cal_accuracy(y_val_clf, dt4_y_predict)"
   ]
  },
  {
   "cell_type": "code",
   "execution_count": 353,
   "metadata": {},
   "outputs": [
    {
     "name": "stdout",
     "output_type": "stream",
     "text": [
      "* Confusion Matrix\n",
      "                         Pred Pasien Liver  Pred Pasien Non-Liver\n",
      "Actual Pasien Liver                     29                     10\n",
      "Actual Pasien Non-Liver                  8                     33\n",
      "\n",
      "* Accuracy :  77.5\n",
      "\n",
      "* Classification Report :\n",
      "               precision    recall  f1-score   support\n",
      "\n",
      "           1       0.78      0.74      0.76        39\n",
      "           2       0.77      0.80      0.79        41\n",
      "\n",
      "    accuracy                           0.78        80\n",
      "   macro avg       0.78      0.77      0.77        80\n",
      "weighted avg       0.78      0.78      0.77        80\n",
      "\n"
     ]
    }
   ],
   "source": [
    "cal_accuracy(y_val_clf, dt5_y_predict)"
   ]
  },
  {
   "cell_type": "code",
   "execution_count": 354,
   "metadata": {},
   "outputs": [
    {
     "name": "stdout",
     "output_type": "stream",
     "text": [
      "* Confusion Matrix\n",
      "                         Pred Pasien Liver  Pred Pasien Non-Liver\n",
      "Actual Pasien Liver                     29                     10\n",
      "Actual Pasien Non-Liver                  8                     33\n",
      "\n",
      "* Accuracy :  77.5\n",
      "\n",
      "* Classification Report :\n",
      "               precision    recall  f1-score   support\n",
      "\n",
      "           1       0.78      0.74      0.76        39\n",
      "           2       0.77      0.80      0.79        41\n",
      "\n",
      "    accuracy                           0.78        80\n",
      "   macro avg       0.78      0.77      0.77        80\n",
      "weighted avg       0.78      0.78      0.77        80\n",
      "\n"
     ]
    }
   ],
   "source": [
    "cal_accuracy(y_val_clf, dt5_y_predict)"
   ]
  },
  {
   "cell_type": "markdown",
   "metadata": {
    "deletable": false,
    "editable": false,
    "nbgrader": {
     "cell_type": "markdown",
     "checksum": "97a961541306e1eb43f4fbada2727aff",
     "grade": false,
     "grade_id": "cell-16a4f11b67af3472",
     "locked": true,
     "schema_version": 3,
     "solution": false,
     "task": false
    }
   },
   "source": [
    "## SOAL 2\n",
    "Gambarkan hasil tree yang telah Anda bangun dalam bentuk <b>representasi teks</b>!\n",
    "\n",
    "Contoh hasil Tree (ex_dt.PNG terlampir di scele): \n",
    "\n",
    "<img src=\"ex_dt.PNG\">\n",
    "\n",
    "Tree dalam bentuk <b>Representasi Teks</b>:\n",
    "\n",
    "  - WINDY \n",
    "      - true\n",
    "          - OUTLOOK\n",
    "              - sunny\n",
    "                  - HUMIDITY\n",
    "                      - #<83\n",
    "                          - yes\n",
    "                      - #>83\n",
    "                          - no\n",
    "              - overcast\n",
    "                  - yes\n",
    "              - rainy\n",
    "                  - no\n",
    "      - false\n",
    "          - TEMPERATURE\n",
    "              - #<83\n",
    "                  - yes\n",
    "              - #>83\n",
    "                  - no"
   ]
  },
  {
   "cell_type": "code",
   "execution_count": 355,
   "metadata": {},
   "outputs": [
    {
     "data": {
      "text/plain": [
       "{'col': 0,\n",
       " 'index_col': 0,\n",
       " 'boundary': 0.4074074074074074,\n",
       " 'val': 1.0,\n",
       " 'left': {'col': 3,\n",
       "  'index_col': 3,\n",
       "  'boundary': 0.24409448818897636,\n",
       "  'val': 2.0,\n",
       "  'left': {'col': 4,\n",
       "   'index_col': 4,\n",
       "   'boundary': 0.013190034196384953,\n",
       "   'val': 2.0,\n",
       "   'left': {'val': 1},\n",
       "   'right': {'col': 8,\n",
       "    'index_col': 8,\n",
       "    'boundary': 0.525,\n",
       "    'val': 2.0,\n",
       "    'left': {'val': 2},\n",
       "    'right': {'col': 4,\n",
       "     'index_col': 4,\n",
       "     'boundary': 0.16511968734733756,\n",
       "     'val': 2.0,\n",
       "     'left': None,\n",
       "     'right': {'val': 1}}}},\n",
       "  'right': {'val': 1}},\n",
       " 'right': {'col': 0,\n",
       "  'index_col': 0,\n",
       "  'boundary': 0.691358024691358,\n",
       "  'val': 1.0,\n",
       "  'left': {'val': 1},\n",
       "  'right': {'col': 4,\n",
       "   'index_col': 4,\n",
       "   'boundary': 0.19296531509526135,\n",
       "   'val': 1.0,\n",
       "   'left': {'col': 8,\n",
       "    'index_col': 8,\n",
       "    'boundary': 0.625,\n",
       "    'val': 2.0,\n",
       "    'left': {'col': 6,\n",
       "     'index_col': 6,\n",
       "     'boundary': 0.0028461069323033137,\n",
       "     'val': 2.0,\n",
       "     'left': {'val': 2},\n",
       "     'right': None},\n",
       "    'right': {'val': 2}},\n",
       "   'right': {'val': 1}}}}"
      ]
     },
     "execution_count": 355,
     "metadata": {},
     "output_type": "execute_result"
    }
   ],
   "source": [
    "dt3 = DecisionTreeClassifier(max_depth=5)\n",
    "dt3.fit(x_train_clf, y_train_clf)"
   ]
  },
  {
   "cell_type": "markdown",
   "metadata": {},
   "source": [
    "## JAWABAN"
   ]
  },
  {
   "cell_type": "markdown",
   "metadata": {
    "deletable": false,
    "editable": false,
    "nbgrader": {
     "cell_type": "markdown",
     "checksum": "daf5ee9777bd03ecde1c1bf9dea5150f",
     "grade": false,
     "grade_id": "cell-306c8791eae37ca6",
     "locked": true,
     "schema_version": 3,
     "solution": false,
     "task": false
    }
   },
   "source": [
    "## SOAL 3\n",
    "Berikan analisis Anda berdasarkan hasil evaluasi dan issue yang terdapat dalam Decision Tree Class yang dibangun!"
   ]
  },
  {
   "cell_type": "markdown",
   "metadata": {},
   "source": [
    "## JAWABAN"
   ]
  },
  {
   "cell_type": "code",
   "execution_count": null,
   "metadata": {},
   "outputs": [],
   "source": [
    "Dari percobaan diatas terlihat bahwa maksimal kedalaman (max_depth) yang dipilih akan memengaruhi akurasi mesin.\n",
    "Dari hasil akurasi yang didapat untuk setiap depthnya terlihat bahwa ketika max_depth kurang dari 5 masih kurang dari \n",
    "max_depth yang 5. Namun, ketika max_depth menyentuh angka 6 akurasi mesin justru menurun. Hal ini menunjukkan bahwa\n",
    "mesin mendapat nilai akurasi terbaik di 5, dan ketika diatas 5 akan terjadi overfitting."
   ]
  }
 ],
 "metadata": {
  "kernelspec": {
   "display_name": "Python 3",
   "language": "python",
   "name": "python3"
  },
  "language_info": {
   "codemirror_mode": {
    "name": "ipython",
    "version": 3
   },
   "file_extension": ".py",
   "mimetype": "text/x-python",
   "name": "python",
   "nbconvert_exporter": "python",
   "pygments_lexer": "ipython3",
   "version": "3.7.3"
  }
 },
 "nbformat": 4,
 "nbformat_minor": 2
}
