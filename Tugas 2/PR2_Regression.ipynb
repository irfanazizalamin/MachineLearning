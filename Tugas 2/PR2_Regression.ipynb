{
 "cells": [
  {
   "cell_type": "code",
   "execution_count": 20,
   "metadata": {},
   "outputs": [],
   "source": [
    "#Input NPM\n",
    "NPM = \"\"\n",
    "\n",
    "#Input NPM teman yang berkolaborasi dengan Anda dalam mengerjakan tugas ini\n",
    "KOLABORATOR = []\n",
    "\n",
    "#Input link referensi atau sumber lain yang Anda gunakan dalam menyelesaikan tugas ini\n",
    "REFERENSI = []"
   ]
  },
  {
   "cell_type": "markdown",
   "metadata": {
    "deletable": false,
    "editable": false,
    "nbgrader": {
     "cell_type": "markdown",
     "checksum": "be7658750bb92b9435360cfd76836972",
     "grade": false,
     "grade_id": "cell-df09abfd625953f0",
     "locked": true,
     "schema_version": 3,
     "solution": false,
     "task": false
    }
   },
   "source": [
    "## PR 2 Linear and Logistic Regression\n",
    "\n",
    "#### Tugas ini terdiri dari 2 bagian:\n",
    "\n",
    "* Implementasi (Score: 50)\n",
    "    * [Soal 1 - Implementasi Linear Regression](#Soal-1)\n",
    "    * [Soal 2 - Analisis Linear Regression](#Soal-2)\n",
    "    * [Soal 3 - Implementasi Logistic Regression](#Soal-3)\n",
    "    * [Soal 4 - Analisis Logistic Regression](#Soal-4)\n",
    "* Demo program (Score: 50) (jadwal demo akan diumumkan via scele)\n",
    "* Dataset yang digunakan untuk Linear Regression adalah insurance.csv dan untuk Logistic Regression adalah data yang sama dengan PR 1 yaitu pasien_liver.csv\n",
    "\n",
    "* Berikut ketentuan pengerjaan PR 2:\n",
    "\n",
    "   - Silahkan untuk menjawab di bagian <b># YOUR CODE HERE</b>\n",
    "\n",
    "   - Jangan mengubah class dan method yang sudah ada, tetapi Anda dipersilahkan untuk menambah parameter, variabel, atau method baru jika diperlukan\n",
    "\n",
    "   - Library yang boleh digunakan hanya Numpy, Pandas, dan Matplotlib \n",
    "\n",
    "   - Berikan penjelasan singkat mengenai code yang Anda buat"
   ]
  },
  {
   "cell_type": "code",
   "execution_count": 22,
   "metadata": {
    "deletable": false,
    "editable": false,
    "nbgrader": {
     "cell_type": "code",
     "checksum": "2f5bcd92f3660534760583cdd1e524f1",
     "grade": false,
     "grade_id": "cell-f2379190250fdd32",
     "locked": true,
     "schema_version": 3,
     "solution": false,
     "task": false
    }
   },
   "outputs": [
    {
     "ename": "AttributeError",
     "evalue": "type object 'pandas._libs.tslibs.conversion._TSObject' has no attribute '__reduce_cython__'",
     "output_type": "error",
     "traceback": [
      "\u001b[1;31m---------------------------------------------------------------------------\u001b[0m",
      "\u001b[1;31mAttributeError\u001b[0m                            Traceback (most recent call last)",
      "\u001b[1;32m<ipython-input-22-c2de52152229>\u001b[0m in \u001b[0;36m<module>\u001b[1;34m\u001b[0m\n\u001b[0;32m      1\u001b[0m \u001b[1;32mfrom\u001b[0m \u001b[0mmatplotlib\u001b[0m \u001b[1;32mimport\u001b[0m \u001b[0mpyplot\u001b[0m \u001b[1;32mas\u001b[0m \u001b[0mplt\u001b[0m\u001b[1;33m\u001b[0m\u001b[1;33m\u001b[0m\u001b[0m\n\u001b[0;32m      2\u001b[0m \u001b[1;32mimport\u001b[0m \u001b[0mnumpy\u001b[0m \u001b[1;32mas\u001b[0m \u001b[0mnp\u001b[0m\u001b[1;33m\u001b[0m\u001b[1;33m\u001b[0m\u001b[0m\n\u001b[1;32m----> 3\u001b[1;33m \u001b[1;32mimport\u001b[0m \u001b[0mpandas\u001b[0m \u001b[1;32mas\u001b[0m \u001b[0mpd\u001b[0m\u001b[1;33m\u001b[0m\u001b[1;33m\u001b[0m\u001b[0m\n\u001b[0m",
      "\u001b[1;32mc:\\users\\irfanazizalamin\\appdata\\local\\programs\\python\\python37\\lib\\site-packages\\pandas\\__init__.py\u001b[0m in \u001b[0;36m<module>\u001b[1;34m\u001b[0m\n\u001b[0;32m     24\u001b[0m \u001b[1;33m\u001b[0m\u001b[0m\n\u001b[0;32m     25\u001b[0m \u001b[1;32mtry\u001b[0m\u001b[1;33m:\u001b[0m\u001b[1;33m\u001b[0m\u001b[1;33m\u001b[0m\u001b[0m\n\u001b[1;32m---> 26\u001b[1;33m     from pandas._libs import (hashtable as _hashtable,\n\u001b[0m\u001b[0;32m     27\u001b[0m                              \u001b[0mlib\u001b[0m \u001b[1;32mas\u001b[0m \u001b[0m_lib\u001b[0m\u001b[1;33m,\u001b[0m\u001b[1;33m\u001b[0m\u001b[1;33m\u001b[0m\u001b[0m\n\u001b[0;32m     28\u001b[0m                              tslib as _tslib)\n",
      "\u001b[1;32mc:\\users\\irfanazizalamin\\appdata\\local\\programs\\python\\python37\\lib\\site-packages\\pandas\\_libs\\__init__.py\u001b[0m in \u001b[0;36m<module>\u001b[1;34m\u001b[0m\n\u001b[0;32m      2\u001b[0m \u001b[1;31m# flake8: noqa\u001b[0m\u001b[1;33m\u001b[0m\u001b[1;33m\u001b[0m\u001b[1;33m\u001b[0m\u001b[0m\n\u001b[0;32m      3\u001b[0m \u001b[1;33m\u001b[0m\u001b[0m\n\u001b[1;32m----> 4\u001b[1;33m from .tslibs import (\n\u001b[0m\u001b[0;32m      5\u001b[0m     iNaT, NaT, Timestamp, Timedelta, OutOfBoundsDatetime, Period)\n",
      "\u001b[1;32mc:\\users\\irfanazizalamin\\appdata\\local\\programs\\python\\python37\\lib\\site-packages\\pandas\\_libs\\tslibs\\__init__.py\u001b[0m in \u001b[0;36m<module>\u001b[1;34m\u001b[0m\n\u001b[0;32m      2\u001b[0m \u001b[1;31m# flake8: noqa\u001b[0m\u001b[1;33m\u001b[0m\u001b[1;33m\u001b[0m\u001b[1;33m\u001b[0m\u001b[0m\n\u001b[0;32m      3\u001b[0m \u001b[1;33m\u001b[0m\u001b[0m\n\u001b[1;32m----> 4\u001b[1;33m \u001b[1;32mfrom\u001b[0m \u001b[1;33m.\u001b[0m\u001b[0mconversion\u001b[0m \u001b[1;32mimport\u001b[0m \u001b[0mnormalize_date\u001b[0m\u001b[1;33m,\u001b[0m \u001b[0mlocalize_pydatetime\u001b[0m\u001b[1;33m,\u001b[0m \u001b[0mtz_convert_single\u001b[0m\u001b[1;33m\u001b[0m\u001b[1;33m\u001b[0m\u001b[0m\n\u001b[0m\u001b[0;32m      5\u001b[0m \u001b[1;32mfrom\u001b[0m \u001b[1;33m.\u001b[0m\u001b[0mnattype\u001b[0m \u001b[1;32mimport\u001b[0m \u001b[0mNaT\u001b[0m\u001b[1;33m,\u001b[0m \u001b[0miNaT\u001b[0m\u001b[1;33m,\u001b[0m \u001b[0mis_null_datetimelike\u001b[0m\u001b[1;33m\u001b[0m\u001b[1;33m\u001b[0m\u001b[0m\n\u001b[0;32m      6\u001b[0m \u001b[1;32mfrom\u001b[0m \u001b[1;33m.\u001b[0m\u001b[0mnp_datetime\u001b[0m \u001b[1;32mimport\u001b[0m \u001b[0mOutOfBoundsDatetime\u001b[0m\u001b[1;33m\u001b[0m\u001b[1;33m\u001b[0m\u001b[0m\n",
      "\u001b[1;32mpandas\\_libs\\tslibs\\conversion.pyx\u001b[0m in \u001b[0;36minit pandas._libs.tslibs.conversion\u001b[1;34m()\u001b[0m\n",
      "\u001b[1;31mAttributeError\u001b[0m: type object 'pandas._libs.tslibs.conversion._TSObject' has no attribute '__reduce_cython__'"
     ]
    }
   ],
   "source": [
    "from matplotlib import pyplot as plt\n",
    "import numpy as np\n",
    "import pandas as pd"
   ]
  },
  {
   "cell_type": "code",
   "execution_count": 23,
   "metadata": {
    "deletable": false,
    "editable": false,
    "nbgrader": {
     "cell_type": "code",
     "checksum": "9d8f2d4841f0e992f0b1a0a82d7341ee",
     "grade": false,
     "grade_id": "cell-31df097acbe356c5",
     "locked": true,
     "schema_version": 3,
     "solution": false,
     "task": false
    }
   },
   "outputs": [],
   "source": [
    "def is_similar(X, Y):\n",
    "    if isinstance(X, list) and isinstance(Y, list):\n",
    "        if len(X) == len(Y):\n",
    "            return all([is_similar(x,Y[i]) for i,x in enumerate(X)])\n",
    "        else:\n",
    "            return False\n",
    "    return abs(X-Y) <= 1e-7"
   ]
  },
  {
   "cell_type": "markdown",
   "metadata": {
    "deletable": false,
    "editable": false,
    "nbgrader": {
     "cell_type": "markdown",
     "checksum": "9cdcfa801e40f3e42037be2e20919269",
     "grade": false,
     "grade_id": "SOAL-1",
     "locked": true,
     "schema_version": 3,
     "solution": false,
     "task": false
    }
   },
   "source": [
    "## Soal 1 \n",
    "### Linear Regression (20 poin)\n",
    "\n",
    "* Pada soal ini Anda diminta untuk mengimplementasikan Linear Regression untuk mencari hubungan antara atribut-atribut yang ada pada data dalam mempengaruhi harga self insurance seseorang\n",
    "* Data yang digunakan memiliki 5 fitur, yaitu age, sex, bmi, children, smoke. Charges adalah variabel target yang akan diprediksi"
   ]
  },
  {
   "cell_type": "code",
   "execution_count": 19,
   "metadata": {
    "deletable": false,
    "editable": false,
    "nbgrader": {
     "cell_type": "code",
     "checksum": "c74fe7fb3eee32e50fd49942f5cababe",
     "grade": false,
     "grade_id": "cell-7f3d12c61b85aa8b",
     "locked": true,
     "schema_version": 3,
     "solution": false,
     "task": false
    }
   },
   "outputs": [
    {
     "ename": "NameError",
     "evalue": "name 'pd' is not defined",
     "output_type": "error",
     "traceback": [
      "\u001b[1;31m---------------------------------------------------------------------------\u001b[0m",
      "\u001b[1;31mNameError\u001b[0m                                 Traceback (most recent call last)",
      "\u001b[1;32m<ipython-input-19-4c16e05430f7>\u001b[0m in \u001b[0;36m<module>\u001b[1;34m\u001b[0m\n\u001b[1;32m----> 1\u001b[1;33m \u001b[0mdata_linreg\u001b[0m \u001b[1;33m=\u001b[0m \u001b[0mpd\u001b[0m\u001b[1;33m.\u001b[0m\u001b[0mread_csv\u001b[0m\u001b[1;33m(\u001b[0m\u001b[1;34m\"insurance.csv\"\u001b[0m\u001b[1;33m)\u001b[0m \u001b[1;31m#load the dataset\u001b[0m\u001b[1;33m\u001b[0m\u001b[1;33m\u001b[0m\u001b[0m\n\u001b[0m\u001b[0;32m      2\u001b[0m \u001b[0mdata_linreg\u001b[0m\u001b[1;33m.\u001b[0m\u001b[0mhead\u001b[0m\u001b[1;33m(\u001b[0m\u001b[1;36m10\u001b[0m\u001b[1;33m)\u001b[0m\u001b[1;33m\u001b[0m\u001b[1;33m\u001b[0m\u001b[0m\n",
      "\u001b[1;31mNameError\u001b[0m: name 'pd' is not defined"
     ]
    }
   ],
   "source": [
    "data_linreg = pd.read_csv(\"insurance.csv\") #load the dataset\n",
    "data_linreg.head(10)"
   ]
  },
  {
   "cell_type": "markdown",
   "metadata": {
    "deletable": false,
    "editable": false,
    "nbgrader": {
     "cell_type": "markdown",
     "checksum": "16dae610552d5075aa7bd0885fd466cd",
     "grade": false,
     "grade_id": "cell-4581bda434001b19",
     "locked": true,
     "schema_version": 3,
     "solution": false,
     "task": false
    }
   },
   "source": [
    "Silahkan melakukan preprocessing data. Beberapa preprocessing yang bisa dilakukan antara lain melakukan encode pada data kategori, menangani missing value, normalisasi data value, dan sebagainya"
   ]
  },
  {
   "cell_type": "code",
   "execution_count": 118,
   "metadata": {},
   "outputs": [
    {
     "name": "stderr",
     "output_type": "stream",
     "text": [
      "c:\\users\\ardanto finkan septa\\documents\\kuliah\\ml\\env\\lib\\site-packages\\ipykernel_launcher.py:5: SettingWithCopyWarning: \n",
      "A value is trying to be set on a copy of a slice from a DataFrame\n",
      "\n",
      "See the caveats in the documentation: https://pandas.pydata.org/pandas-docs/stable/user_guide/indexing.html#returning-a-view-versus-a-copy\n",
      "  \"\"\"\n",
      "c:\\users\\ardanto finkan septa\\documents\\kuliah\\ml\\env\\lib\\site-packages\\ipykernel_launcher.py:8: SettingWithCopyWarning: \n",
      "A value is trying to be set on a copy of a slice from a DataFrame\n",
      "\n",
      "See the caveats in the documentation: https://pandas.pydata.org/pandas-docs/stable/user_guide/indexing.html#returning-a-view-versus-a-copy\n",
      "  \n"
     ]
    },
    {
     "data": {
      "text/html": [
       "<div>\n",
       "<style scoped>\n",
       "    .dataframe tbody tr th:only-of-type {\n",
       "        vertical-align: middle;\n",
       "    }\n",
       "\n",
       "    .dataframe tbody tr th {\n",
       "        vertical-align: top;\n",
       "    }\n",
       "\n",
       "    .dataframe thead th {\n",
       "        text-align: right;\n",
       "    }\n",
       "</style>\n",
       "<table border=\"1\" class=\"dataframe\">\n",
       "  <thead>\n",
       "    <tr style=\"text-align: right;\">\n",
       "      <th></th>\n",
       "      <th>age</th>\n",
       "      <th>sex</th>\n",
       "      <th>bmi</th>\n",
       "      <th>children</th>\n",
       "      <th>smoker</th>\n",
       "      <th>charges</th>\n",
       "    </tr>\n",
       "  </thead>\n",
       "  <tbody>\n",
       "    <tr>\n",
       "      <th>0</th>\n",
       "      <td>-1.440949</td>\n",
       "      <td>-1.01244</td>\n",
       "      <td>-0.451213</td>\n",
       "      <td>-0.908337</td>\n",
       "      <td>1.96707</td>\n",
       "      <td>0.296815</td>\n",
       "    </tr>\n",
       "    <tr>\n",
       "      <th>1</th>\n",
       "      <td>-1.512185</td>\n",
       "      <td>0.986976</td>\n",
       "      <td>0.511308</td>\n",
       "      <td>-0.079472</td>\n",
       "      <td>-0.50799</td>\n",
       "      <td>-0.954391</td>\n",
       "    </tr>\n",
       "    <tr>\n",
       "      <th>2</th>\n",
       "      <td>-0.799822</td>\n",
       "      <td>0.986976</td>\n",
       "      <td>0.385049</td>\n",
       "      <td>1.578258</td>\n",
       "      <td>-0.50799</td>\n",
       "      <td>-0.729568</td>\n",
       "    </tr>\n",
       "    <tr>\n",
       "      <th>3</th>\n",
       "      <td>-0.443640</td>\n",
       "      <td>0.986976</td>\n",
       "      <td>-1.303052</td>\n",
       "      <td>-0.908337</td>\n",
       "      <td>-0.50799</td>\n",
       "      <td>0.717715</td>\n",
       "    </tr>\n",
       "    <tr>\n",
       "      <th>4</th>\n",
       "      <td>-0.514876</td>\n",
       "      <td>0.986976</td>\n",
       "      <td>-0.290519</td>\n",
       "      <td>-0.908337</td>\n",
       "      <td>-0.50799</td>\n",
       "      <td>-0.777655</td>\n",
       "    </tr>\n",
       "    <tr>\n",
       "      <th>5</th>\n",
       "      <td>-0.586113</td>\n",
       "      <td>-1.01244</td>\n",
       "      <td>-0.805394</td>\n",
       "      <td>-0.908337</td>\n",
       "      <td>-0.50799</td>\n",
       "      <td>-0.786753</td>\n",
       "    </tr>\n",
       "    <tr>\n",
       "      <th>6</th>\n",
       "      <td>0.482433</td>\n",
       "      <td>-1.01244</td>\n",
       "      <td>0.457197</td>\n",
       "      <td>-0.079472</td>\n",
       "      <td>-0.50799</td>\n",
       "      <td>-0.416661</td>\n",
       "    </tr>\n",
       "    <tr>\n",
       "      <th>7</th>\n",
       "      <td>-0.158694</td>\n",
       "      <td>-1.01244</td>\n",
       "      <td>-0.477448</td>\n",
       "      <td>1.578258</td>\n",
       "      <td>-0.50799</td>\n",
       "      <td>-0.495821</td>\n",
       "    </tr>\n",
       "    <tr>\n",
       "      <th>8</th>\n",
       "      <td>-0.158694</td>\n",
       "      <td>0.986976</td>\n",
       "      <td>-0.134745</td>\n",
       "      <td>0.749393</td>\n",
       "      <td>-0.50799</td>\n",
       "      <td>-0.568048</td>\n",
       "    </tr>\n",
       "    <tr>\n",
       "      <th>9</th>\n",
       "      <td>1.479742</td>\n",
       "      <td>-1.01244</td>\n",
       "      <td>-0.788997</td>\n",
       "      <td>-0.908337</td>\n",
       "      <td>-0.50799</td>\n",
       "      <td>1.290410</td>\n",
       "    </tr>\n",
       "  </tbody>\n",
       "</table>\n",
       "</div>"
      ],
      "text/plain": [
       "        age       sex       bmi  children   smoker   charges\n",
       "0 -1.440949  -1.01244 -0.451213 -0.908337  1.96707  0.296815\n",
       "1 -1.512185  0.986976  0.511308 -0.079472 -0.50799 -0.954391\n",
       "2 -0.799822  0.986976  0.385049  1.578258 -0.50799 -0.729568\n",
       "3 -0.443640  0.986976 -1.303052 -0.908337 -0.50799  0.717715\n",
       "4 -0.514876  0.986976 -0.290519 -0.908337 -0.50799 -0.777655\n",
       "5 -0.586113  -1.01244 -0.805394 -0.908337 -0.50799 -0.786753\n",
       "6  0.482433  -1.01244  0.457197 -0.079472 -0.50799 -0.416661\n",
       "7 -0.158694  -1.01244 -0.477448  1.578258 -0.50799 -0.495821\n",
       "8 -0.158694  0.986976 -0.134745  0.749393 -0.50799 -0.568048\n",
       "9  1.479742  -1.01244 -0.788997 -0.908337 -0.50799  1.290410"
      ]
     },
     "execution_count": 118,
     "metadata": {},
     "output_type": "execute_result"
    }
   ],
   "source": [
    "# PREPROCESSING DATA\n",
    "data_linreg = data_linreg.dropna()\n",
    "\n",
    "data_linreg['smoker'][data_linreg['smoker'] == 'no'] = 0\n",
    "data_linreg['smoker'][data_linreg['smoker'] == 'yes'] = 1\n",
    "\n",
    "data_linreg['sex'][data_linreg['sex'] == 'female'] = 0\n",
    "data_linreg['sex'][data_linreg['sex'] == 'male'] = 1\n",
    "\n",
    "data_linreg=(data_linreg - data_linreg.mean()) / data_linreg.std()\n",
    "\n",
    "data_linreg.head(10)"
   ]
  },
  {
   "cell_type": "code",
   "execution_count": 119,
   "metadata": {
    "deletable": false,
    "editable": false,
    "nbgrader": {
     "cell_type": "code",
     "checksum": "ad7d4ea7578d703577665fe0e1178ecd",
     "grade": false,
     "grade_id": "cell-23022f03299ee6a4",
     "locked": true,
     "schema_version": 3,
     "solution": false,
     "task": false
    }
   },
   "outputs": [],
   "source": [
    "# Pembagian fitur dan label\n",
    "features = data_linreg.drop([\"charges\"], axis=1).values\n",
    "label = data_linreg['charges'].values"
   ]
  },
  {
   "cell_type": "markdown",
   "metadata": {
    "deletable": false,
    "editable": false,
    "nbgrader": {
     "cell_type": "markdown",
     "checksum": "05f02d762879d177acddeee05b68f640",
     "grade": false,
     "grade_id": "cell-967f16b7a9da60bc",
     "locked": true,
     "schema_version": 3,
     "solution": false,
     "task": false
    }
   },
   "source": [
    "Tanpa menggunakan library external, implementasikan fungsi hipotesis h(x)\n",
    "\n",
    "$$ h(x) = w^Tx $$\n",
    "\n",
    "dengan w adalah bobot dan x direpresentasikan sebagai list dengan panjang yang sama dengan w"
   ]
  },
  {
   "cell_type": "code",
   "execution_count": 62,
   "metadata": {},
   "outputs": [],
   "source": [
    "def h(x):\n",
    "    global w\n",
    "    # YOUR CODE HERE\n",
    "    a = np.dot(np.asarray(w), x)\n",
    "    return a"
   ]
  },
  {
   "cell_type": "code",
   "execution_count": 63,
   "metadata": {
    "deletable": false,
    "editable": false,
    "nbgrader": {
     "cell_type": "code",
     "checksum": "6c0ae800307901ac08224c0e60fd6ec5",
     "grade": true,
     "grade_id": "cell-83241ad3d0a56962",
     "locked": true,
     "points": 1,
     "schema_version": 3,
     "solution": false,
     "task": false
    }
   },
   "outputs": [],
   "source": [
    "# code ini digunakan untuk memeriksa apakah fungsi h yang Anda implementasikan sudah sesuai\n",
    "w, x = [1,2,3], [2,3,4]\n",
    "assert is_similar(h(x),20)\n",
    "\n",
    "w, x = [-1,-1,-1], [2,3,4]\n",
    "assert is_similar(h(x),-9)"
   ]
  },
  {
   "cell_type": "markdown",
   "metadata": {
    "deletable": false,
    "editable": false,
    "nbgrader": {
     "cell_type": "markdown",
     "checksum": "a8f3002d92a89bb884f59c5aaeb6e139",
     "grade": false,
     "grade_id": "cell-ebc69cd90af8b0f5",
     "locked": true,
     "schema_version": 3,
     "solution": false,
     "task": false
    }
   },
   "source": [
    "tanpa menggunakan library eksternal, gunakan h yang sudah diemplementasikan di atas untuk mengimplementasikan cost funtion $J(w)$ untuk Linear Regression\n",
    "\n",
    "$$J(w) = \\frac{1}{2}\\sum_{i=1}^m (h_w(x^{(i)}) - y^{(i)})^2 $$"
   ]
  },
  {
   "cell_type": "code",
   "execution_count": 106,
   "metadata": {},
   "outputs": [],
   "source": [
    "def cost_func_linreg(X, y):\n",
    "    m = len(y)\n",
    "    \n",
    "    global w\n",
    "    # YOUR CODE HERE\n",
    "    sum = 0\n",
    "    for i in range(m):\n",
    "        sum += (h(X[i]) - y[i])**2 / 2\n",
    "    return sum"
   ]
  },
  {
   "cell_type": "code",
   "execution_count": 74,
   "metadata": {
    "deletable": false,
    "editable": false,
    "nbgrader": {
     "cell_type": "code",
     "checksum": "29f8c0d079c5e1e7c44dc67e9cf3299d",
     "grade": false,
     "grade_id": "cell-0f7b21dadeb08c05",
     "locked": true,
     "schema_version": 3,
     "solution": false,
     "task": false
    }
   },
   "outputs": [],
   "source": [
    "# code ini digunakan untuk memeriksa apakah cost function yang Anda implementasikan sudah sesuai\n",
    "w, X, y = [-1, 0], [[1,1],[0,1]], [-1,0]\n",
    "assert is_similar(cost_func_linreg(X,y),0)\n",
    "\n",
    "w, X, y = [1, 1, 2], [[1,1,1],[0,0,0]], [0,0]\n",
    "assert is_similar(cost_func_linreg(X,y),8)"
   ]
  },
  {
   "cell_type": "markdown",
   "metadata": {
    "deletable": false,
    "editable": false,
    "nbgrader": {
     "cell_type": "markdown",
     "checksum": "23b43f2f8e580cd0fc871cfac7ee59aa",
     "grade": false,
     "grade_id": "cell-80221c70667c2238",
     "locked": true,
     "schema_version": 3,
     "solution": false,
     "task": false
    }
   },
   "source": [
    "tanpa menggunakan library eksternal, gunakan cost function di atas untuk mengimplementasikan satu iterasi dari stochastic gradient descent"
   ]
  },
  {
   "cell_type": "code",
   "execution_count": 145,
   "metadata": {},
   "outputs": [],
   "source": [
    "# lr adalah learning rate\n",
    "'''\n",
    "def SGD(X, y, lr=1e-4):\n",
    "    global w\n",
    "    alpha, m = lr, len(y)\n",
    "    \n",
    "        \n",
    "    for j in range(len(w)):\n",
    "        add = 0\n",
    "        for i in range(m):\n",
    "            # YOUR CODE HERE\n",
    "            add += (y[i] - h(X[i])) * X[i][j]\n",
    "        w[j] = w[j] + alpha * add\n",
    "            \n",
    "    return w\n",
    "'''\n",
    "def SGD(X, y, lr=1e-4):\n",
    "    global w\n",
    "    alpha, m = lr, len(y)\n",
    "    \n",
    "    for i in range(m):  \n",
    "        for j in range(len(w)):\n",
    "            w[j] = w[j] + alpha * (y[i] - h(X[i])) * X[i][j]\n",
    "\n",
    "    return w"
   ]
  },
  {
   "cell_type": "markdown",
   "metadata": {},
   "source": [
    "implementasikan fungsi is_convergen untuk menentukan termination condition (slide kuliah halaman 18). Anda bisa menambahkan parameter yang sesuai dengan termination condition yang dipilih. Fungsi ini akan mengembalikan nilai boolean termination_condition"
   ]
  },
  {
   "cell_type": "code",
   "execution_count": 163,
   "metadata": {},
   "outputs": [],
   "source": [
    "def is_convergen(num_of_iter, history):\n",
    "    # termination_condition = False\n",
    "    if len(history) <= 1:\n",
    "        return False\n",
    "    # YOUR CODE HERE\n",
    "    diff = abs(history[num_of_iter - 1] - history[num_of_iter - 2])\n",
    "    if diff < 10**(-4):\n",
    "        return True\n",
    "    else:\n",
    "        return False\n",
    "    # return termination_condition"
   ]
  },
  {
   "cell_type": "code",
   "execution_count": 164,
   "metadata": {},
   "outputs": [
    {
     "name": "stdout",
     "output_type": "stream",
     "text": [
      "cost func before 32899.525331939425\n",
      "weight before [1, 2, 3, 4, 5]\n",
      "current loss 32899.525331939425\n",
      "current loss 2067.1329766844233\n",
      "current loss 283.8128257026485\n",
      "current loss 175.024738123781\n",
      "current loss 167.76620125074095\n",
      "current loss 167.18884329851429\n",
      "current loss 167.1249474222428\n",
      "current loss 167.11421583976045\n",
      "current loss 167.1117921269924\n",
      "current loss 167.11116538426242\n",
      "current loss 167.11099430884175\n",
      "current loss 167.1109464272344\n",
      "cost func after 12 iteration 167.11093281522867\n",
      "weight after 12 iteration [0.29569550507830783, -0.005018188993515945, 0.16220292003888312, 0.05381504356668836, 0.7940722283520794]\n",
      "[32899.525331939425, 2067.1329766844233, 283.8128257026485, 175.024738123781, 167.76620125074095, 167.18884329851429, 167.1249474222428, 167.11421583976045, 167.1117921269924, 167.11116538426242, 167.11099430884175, 167.1109464272344]\n",
      "\n",
      "cost/loss func plot\n"
     ]
    },
    {
     "data": {
      "image/png": "[encoded data removed]",
      "text/plain": [
       "<Figure size 720x360 with 1 Axes>"
      ]
     },
     "metadata": {
      "needs_background": "light"
     },
     "output_type": "display_data"
    }
   ],
   "source": [
    "# PLAYGROUND\n",
    "# you can do anything here as long as not adding any new import\n",
    "global w\n",
    "\n",
    "w, features, label = [1, 2, 3, 4, 5], features, label\n",
    "\n",
    "history = []\n",
    "print('cost func before', cost_func_linreg(features, label))\n",
    "print('weight before', w)\n",
    "\n",
    "number_of_iteration = 0\n",
    "\n",
    "\n",
    "\n",
    "# bagian ini dapat anda modifikasi sesuai dengan fungsi is_convergen yang telah dibuat diatas\n",
    "while not is_convergen(number_of_iteration, history):\n",
    "    history.append(cost_func_linreg(features, label)) \n",
    "    w = SGD(features, label, lr=0.001)\n",
    "    print(\"current loss \" + str(history[number_of_iteration]))\n",
    "    number_of_iteration += 1\n",
    "    \n",
    "print('cost func after ' + str(number_of_iteration) + ' iteration ' + str(cost_func_linreg(features, label)))\n",
    "print('weight after ' + str(number_of_iteration) + ' iteration ' + str(w))\n",
    "\n",
    "print(history)\n",
    "\n",
    "print('\\ncost/loss func plot')\n",
    "plt.figure(figsize=(10,5))\n",
    "plt.plot(history)\n",
    "plt.xlabel('number of iteration')\n",
    "plt.ylabel('loss')\n",
    "plt.grid(True)\n",
    "plt.show()\n"
   ]
  },
  {
   "cell_type": "code",
   "execution_count": 165,
   "metadata": {},
   "outputs": [
    {
     "data": {
      "image/png": "[encoded data removed]",
      "text/plain": [
       "<Figure size 432x288 with 1 Axes>"
      ]
     },
     "metadata": {
      "needs_background": "light"
     },
     "output_type": "display_data"
    },
    {
     "data": {
      "image/png": "[encoded data removed]",
      "text/plain": [
       "<Figure size 432x288 with 1 Axes>"
      ]
     },
     "metadata": {
      "needs_background": "light"
     },
     "output_type": "display_data"
    },
    {
     "data": {
      "image/png": "[encoded data removed]",
      "text/plain": [
       "<Figure size 432x288 with 1 Axes>"
      ]
     },
     "metadata": {
      "needs_background": "light"
     },
     "output_type": "display_data"
    },
    {
     "data": {
      "image/png": "[encoded data removed]",
      "text/plain": [
       "<Figure size 432x288 with 1 Axes>"
      ]
     },
     "metadata": {
      "needs_background": "light"
     },
     "output_type": "display_data"
    },
    {
     "data": {
      "image/png": "[encoded data removed]",
      "text/plain": [
       "<Figure size 432x288 with 1 Axes>"
      ]
     },
     "metadata": {
      "needs_background": "light"
     },
     "output_type": "display_data"
    }
   ],
   "source": [
    "# visualisasikan variabel charges dan 1 fitur yang menurut Anda berpengaruh paling besar pada charges kedalam 2D plot\n",
    "\n",
    "def linreg_plot(feature, label):\n",
    "    plt.scatter(feature, label)\n",
    "    plt.plot([min(feature), max(feature)], [min(label), max(label)], color='red') # predicted\n",
    "    plt.show()\n",
    "\n",
    "dt_features = pd.DataFrame(np.array(features), columns=data_linreg.columns[:-1])\n",
    "\n",
    "# Ambil fitur yang Anda pilih dari dt_features dengan mengganti \"FITUR X\"\n",
    "feature = dt_features['age'].to_numpy()\n",
    "linreg_plot(feature, label)\n",
    "\n",
    "feature = dt_features['sex'].to_numpy()\n",
    "linreg_plot(feature, label)\n",
    "\n",
    "feature = dt_features['bmi'].to_numpy()\n",
    "linreg_plot(feature, label)\n",
    "\n",
    "feature = dt_features['children'].to_numpy()\n",
    "linreg_plot(feature, label)\n",
    "\n",
    "feature = dt_features['smoker'].to_numpy()\n",
    "linreg_plot(feature, label)"
   ]
  },
  {
   "cell_type": "markdown",
   "metadata": {
    "deletable": false,
    "editable": false,
    "nbgrader": {
     "cell_type": "markdown",
     "checksum": "b9bafad8bc0e6448162d512270a40572",
     "grade": false,
     "grade_id": "SOAL-2",
     "locked": true,
     "schema_version": 3,
     "solution": false,
     "task": false
    }
   },
   "source": [
    "## Soal 2 \n",
    "### Analisis Linear Regression (5 poin)\n",
    "* Jelaskan secara singkat analisis Anda terhadap hasil Linear Regression yang didapatkan"
   ]
  },
  {
   "cell_type": "markdown",
   "metadata": {},
   "source": [
    "## JAWABAN"
   ]
  },
  {
   "cell_type": "markdown",
   "metadata": {
    "deletable": false,
    "editable": false,
    "nbgrader": {
     "cell_type": "markdown",
     "checksum": "ed3470d5c6a45c099837c15d3accd699",
     "grade": false,
     "grade_id": "SOAL-3",
     "locked": true,
     "schema_version": 3,
     "solution": false,
     "task": false
    }
   },
   "source": [
    "## Soal 3  \n",
    "### Logistic Regression (20 poin)\n",
    "* Pada soal ini Anda diminta untuk mengimplementasikan Logistic Regression untuk klasifikasi pasien liver atau non liver, jika diketahui atribut-atribut yang ada pada pasien_liver.csv"
   ]
  },
  {
   "cell_type": "code",
   "execution_count": null,
   "metadata": {
    "deletable": false,
    "editable": false,
    "nbgrader": {
     "cell_type": "code",
     "checksum": "f191021318838df0f5c23de43e1531dd",
     "grade": false,
     "grade_id": "cell-bb7133f6627745b2",
     "locked": true,
     "schema_version": 3,
     "solution": false,
     "task": false
    }
   },
   "outputs": [],
   "source": [
    "data_logreg = pd.read_csv(\"pasien_liver.csv\", header=None)\n",
    "data_logreg.head(10)"
   ]
  },
  {
   "cell_type": "markdown",
   "metadata": {
    "deletable": false,
    "editable": false,
    "nbgrader": {
     "cell_type": "markdown",
     "checksum": "dc0dc24188693463f2dc8eb709dcf6a5",
     "grade": false,
     "grade_id": "cell-4af8b2b109b714fc",
     "locked": true,
     "schema_version": 3,
     "solution": false,
     "task": false
    }
   },
   "source": [
    "Silahkan melakukan preprocessing data jika diperlukan. Anda bisa menggunakan preprocessing yang telah Anda lakukan pada PR 1"
   ]
  },
  {
   "cell_type": "code",
   "execution_count": null,
   "metadata": {},
   "outputs": [],
   "source": [
    "# PREPROCESSING DATA"
   ]
  },
  {
   "cell_type": "code",
   "execution_count": null,
   "metadata": {},
   "outputs": [],
   "source": [
    "# Pembagian fitur dan label\n",
    "classification_data = data_logreg.drop([10], axis=1).values\n",
    "classification_label = data_logreg[10].values"
   ]
  },
  {
   "cell_type": "code",
   "execution_count": null,
   "metadata": {},
   "outputs": [],
   "source": [
    "# Rererensi perbedaan predict dan predict_proba https://discuss.analyticsvidhya.com/t/what-is-the-difference-between-predict-and-predict-proba/67376/4\n",
    "# Anda dapat berkreasi pada method yang Anda buat. Hint hanya untuk membantu Anda dalam pengerjaan (tidak harus sama dengan hint yang diberikan)\n",
    "\n",
    "class LogisticRegression:\n",
    "    def __init__(self, lr=0.01, num_iter=100000):\n",
    "        self.lr = lr\n",
    "        self.num_iter = num_iter\n",
    "        \n",
    "    def h(self, w, x):\n",
    "        return 1 / (1 + e**(-np.dot(w, x)))\n",
    "    \n",
    "    def SGA(self, X, y, w, lr):\n",
    "        alpha, m = lr, len(y)\n",
    "\n",
    "        for i in range(m):  \n",
    "            for j in range(len(w)):\n",
    "                w[j] = w[j] + alpha * (y[i] - self.h(X[i])) * X[i][j]\n",
    "\n",
    "        return w\n",
    "    \n",
    "    def is_convergen(self, num_of_iter, history):\n",
    "        # termination_condition = False\n",
    "        if len(history) <= 1:\n",
    "            return False\n",
    "        # YOUR CODE HERE\n",
    "        diff = abs(history[num_of_iter - 1] - history[num_of_iter - 2])\n",
    "        if diff < 10**(-4):\n",
    "            return True\n",
    "        else:\n",
    "            return False\n",
    "        # return termination_condition\n",
    "        \n",
    "    \n",
    "    def fit(self, X, y):\n",
    "        '''Build a logistic regression classifier from the training set (X, y)'''\n",
    "        # YOUR CODE HERE\n",
    "        self.w = np.random.randint(10, size=len(X[0]))\n",
    "        \n",
    "        history = []\n",
    "        \n",
    "        number_of_iteration = 0\n",
    "\n",
    "        while not is_convergen(number_of_iteration, history):\n",
    "            history.append(cost_func_linreg(features, label)) \n",
    "            w = SGD(features, label, lr=0.001)\n",
    "            print(\"current loss \" + str(history[number_of_iteration]))\n",
    "            number_of_iteration += 1\n",
    "            # raise NotImplementedError()\n",
    "\n",
    "    def predict_proba(self, X):\n",
    "        '''Predict class probabilities of the input samples X'''\n",
    "        '''hint: you can put or call your sigmoid function here to predict probablity of input sample X'''\n",
    "        # YOUR CODE HERE\n",
    "        raise NotImplementedError()\n",
    "\n",
    "    def predict(self, X, threshold=0.5): # default threshold adalah 0.5\n",
    "        '''Predict class value for X'''\n",
    "        '''hint: you can use predict_proba function to classify based on given threshold'''\n",
    "        # YOUR CODE HERE\n",
    "        raise NotImplementedError()"
   ]
  },
  {
   "cell_type": "code",
   "execution_count": null,
   "metadata": {},
   "outputs": [],
   "source": [
    "model = LogisticRegression(lr=0.1, num_iter=300000)\n",
    "%time model.fit(classification_data, classification_label)"
   ]
  },
  {
   "cell_type": "markdown",
   "metadata": {
    "deletable": false,
    "editable": false,
    "nbgrader": {
     "cell_type": "markdown",
     "checksum": "cc9c86e6520352a1988da283187fcd8f",
     "grade": false,
     "grade_id": "cell-b7943da7c76b0739",
     "locked": true,
     "schema_version": 3,
     "solution": false,
     "task": false
    }
   },
   "source": [
    "### Implementasi Logistic Regression Model dalam training dan testing data\n",
    "* Silahkan melakukan pembagian data untuk training dan testing (default 60:40)"
   ]
  },
  {
   "cell_type": "code",
   "execution_count": null,
   "metadata": {},
   "outputs": [],
   "source": [
    "from random import seed\n",
    "from random import randrange\n",
    "from numpy import empty\n",
    "\n",
    "# Split a dataset into a train and test set\n",
    "def train_test_split(data, label, split=0.60):\n",
    "    train_data = []\n",
    "    train_label = []\n",
    "    train_size = split * len(data)\n",
    "    data_copy = data.tolist()\n",
    "    label_copy = label.tolist()\n",
    "    while len(train_data) < train_size:\n",
    "        index = randrange(len(data_copy))\n",
    "        train_data.append(data_copy.pop(index))\n",
    "        train_label.append(label_copy.pop(index))\n",
    "    \n",
    "    train_data = np.array(train_data)\n",
    "    train_label = np.array(train_label)\n",
    "    data_copy = np.array(data_copy)\n",
    "    label_copy = np.array(label_copy)\n",
    "    return train_data, train_label, data_copy, label_copy  "
   ]
  },
  {
   "cell_type": "code",
   "execution_count": null,
   "metadata": {},
   "outputs": [],
   "source": [
    "# test train/test split\n",
    "seed(5)\n",
    "x_train_clf, y_train_clf, x_val_clf, y_val_clf = train_test_split(classification_data, classification_label)"
   ]
  },
  {
   "cell_type": "code",
   "execution_count": null,
   "metadata": {},
   "outputs": [],
   "source": [
    "# PLAYGROUND\n",
    "# you can do anything here as long as not adding any new import\n",
    "\n",
    "logreg_model = LogisticRegression(lr=0.1, num_iter=300000)\n",
    "logreg_model.fit(x_train_clf, y_train_clf)"
   ]
  },
  {
   "cell_type": "markdown",
   "metadata": {
    "deletable": false,
    "editable": false,
    "nbgrader": {
     "cell_type": "markdown",
     "checksum": "c4a258d747120ea91e2afa50b75608d6",
     "grade": false,
     "grade_id": "cell-2de53a0072b4253b",
     "locked": true,
     "schema_version": 3,
     "solution": false,
     "task": false
    }
   },
   "source": [
    "## Evaluasi"
   ]
  },
  {
   "cell_type": "code",
   "execution_count": null,
   "metadata": {
    "deletable": false,
    "editable": false,
    "nbgrader": {
     "cell_type": "code",
     "checksum": "e13d18253853b4812d7bd12ab012a21c",
     "grade": false,
     "grade_id": "cell-8edeb2b314629e7e",
     "locked": true,
     "schema_version": 3,
     "solution": false,
     "task": false
    }
   },
   "outputs": [],
   "source": [
    "from sklearn.metrics import accuracy_score \n",
    "from sklearn.metrics import confusion_matrix \n",
    "from sklearn.metrics import classification_report \n",
    "\n",
    "# Function to calculate accuracy \n",
    "def cal_accuracy(y_test, y_pred): \n",
    "      \n",
    "    print(\"* Confusion Matrix\") \n",
    "    print(pd.DataFrame(confusion_matrix(y_test, y_pred), \\\n",
    "            index = ['Actual Pasien Liver', 'Actual Pasien Non-Liver'], \\\n",
    "            columns = ['Pred Pasien Liver', 'Pred Pasien Non-Liver'])) \n",
    "      \n",
    "    print (\"\\n* Accuracy : \", \n",
    "    accuracy_score(y_test,y_pred)*100) \n",
    "      \n",
    "    print(\"\\n* Classification Report :\\n\", \n",
    "    classification_report(y_test, y_pred)) "
   ]
  },
  {
   "cell_type": "code",
   "execution_count": null,
   "metadata": {
    "deletable": false,
    "editable": false,
    "nbgrader": {
     "cell_type": "code",
     "checksum": "b63803c1d167d403cf54d95d4cea7957",
     "grade": false,
     "grade_id": "cell-51bb484624f4a2a5",
     "locked": true,
     "schema_version": 3,
     "solution": false,
     "task": false
    }
   },
   "outputs": [],
   "source": [
    "logreg_y_predict = (logreg_model.predict(x_val_clf))"
   ]
  },
  {
   "cell_type": "code",
   "execution_count": null,
   "metadata": {
    "deletable": false,
    "editable": false,
    "nbgrader": {
     "cell_type": "code",
     "checksum": "e2bbbcffb60cdd1c7c86f98a7679a834",
     "grade": false,
     "grade_id": "cell-634eba5457d6c63e",
     "locked": true,
     "schema_version": 3,
     "solution": false,
     "task": false
    }
   },
   "outputs": [],
   "source": [
    "cal_accuracy(y_val_clf, logreg_y_predict)"
   ]
  },
  {
   "cell_type": "markdown",
   "metadata": {
    "deletable": false,
    "editable": false,
    "nbgrader": {
     "cell_type": "markdown",
     "checksum": "18ca4caeb2e5eb19e2e88c24e4791929",
     "grade": false,
     "grade_id": "SOAL-4",
     "locked": true,
     "schema_version": 3,
     "solution": false,
     "task": false
    }
   },
   "source": [
    "## Soal 4  \n",
    "### Analisis Logistic Regression (5 poin)\n",
    "1. Jelaskan secara singkat analisis Anda terhadap hasil Logistic Regression yang didapatkan\n",
    "2. Jelaskan secara singkat perbedaan hasil evaluasi dari Decision Tree pada PR 1 dan Logistic Regression yang didapatkan pada soal 3 dan mengapa perbedaan tersebut bisa terjadi"
   ]
  },
  {
   "cell_type": "markdown",
   "metadata": {},
   "source": [
    "## JAWABAN"
   ]
  }
 ],
 "metadata": {
  "kernelspec": {
   "display_name": "Python 3",
   "language": "python",
   "name": "python3"
  },
  "language_info": {
   "codemirror_mode": {
    "name": "ipython",
    "version": 3
   },
   "file_extension": ".py",
   "mimetype": "text/x-python",
   "name": "python",
   "nbconvert_exporter": "python",
   "pygments_lexer": "ipython3",
   "version": "3.7.3"
  }
 },
 "nbformat": 4,
 "nbformat_minor": 4
}
