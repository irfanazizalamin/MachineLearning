{
 "cells": [
  {
   "cell_type": "code",
   "execution_count": 5,
   "metadata": {},
   "outputs": [],
   "source": [
    "#Input NPM\n",
    "NPM = \"1706039364\"\n",
    "\n",
    "#Input NPM teman yang berkolaborasi dengan Anda dalam mengerjakan tugas ini\n",
    "KOLABORATOR = []\n",
    "\n",
    "#Input link referensi atau sumber lain yang Anda gunakan dalam menyelesaikan tugas ini\n",
    "REFERENSI = [\"https://medium.com/@martinpella/logistic-regression-from-scratch-in-python-124c5636b8ac\"]"
   ]
  },
  {
   "cell_type": "markdown",
   "metadata": {
    "deletable": false,
    "editable": false,
    "nbgrader": {
     "cell_type": "markdown",
     "checksum": "be7658750bb92b9435360cfd76836972",
     "grade": false,
     "grade_id": "cell-df09abfd625953f0",
     "locked": true,
     "schema_version": 3,
     "solution": false,
     "task": false
    }
   },
   "source": [
    "## PR 2 Linear and Logistic Regression\n",
    "\n",
    "#### Tugas ini terdiri dari 2 bagian:\n",
    "\n",
    "* Implementasi (Score: 50)\n",
    "    * [Soal 1 - Implementasi Linear Regression](#Soal-1)\n",
    "    * [Soal 2 - Analisis Linear Regression](#Soal-2)\n",
    "    * [Soal 3 - Implementasi Logistic Regression](#Soal-3)\n",
    "    * [Soal 4 - Analisis Logistic Regression](#Soal-4)\n",
    "* Demo program (Score: 50) (jadwal demo akan diumumkan via scele)\n",
    "* Dataset yang digunakan untuk Linear Regression adalah insurance.csv dan untuk Logistic Regression adalah data yang sama dengan PR 1 yaitu pasien_liver.csv\n",
    "\n",
    "* Berikut ketentuan pengerjaan PR 2:\n",
    "\n",
    "   - Silahkan untuk menjawab di bagian <b># YOUR CODE HERE</b>\n",
    "\n",
    "   - Jangan mengubah class dan method yang sudah ada, tetapi Anda dipersilahkan untuk menambah parameter, variabel, atau method baru jika diperlukan\n",
    "\n",
    "   - Library yang boleh digunakan hanya Numpy, Pandas, dan Matplotlib \n",
    "\n",
    "   - Berikan penjelasan singkat mengenai code yang Anda buat"
   ]
  },
  {
   "cell_type": "code",
   "execution_count": 6,
   "metadata": {
    "deletable": false,
    "editable": false,
    "nbgrader": {
     "cell_type": "code",
     "checksum": "2f5bcd92f3660534760583cdd1e524f1",
     "grade": false,
     "grade_id": "cell-f2379190250fdd32",
     "locked": true,
     "schema_version": 3,
     "solution": false,
     "task": false
    }
   },
   "outputs": [],
   "source": [
    "from matplotlib import pyplot as plt\n",
    "import numpy as np\n",
    "import pandas as pd"
   ]
  },
  {
   "cell_type": "code",
   "execution_count": 7,
   "metadata": {
    "deletable": false,
    "editable": false,
    "nbgrader": {
     "cell_type": "code",
     "checksum": "9d8f2d4841f0e992f0b1a0a82d7341ee",
     "grade": false,
     "grade_id": "cell-31df097acbe356c5",
     "locked": true,
     "schema_version": 3,
     "solution": false,
     "task": false
    }
   },
   "outputs": [],
   "source": [
    "def is_similar(X, Y):\n",
    "    if isinstance(X, list) and isinstance(Y, list):\n",
    "        if len(X) == len(Y):\n",
    "            return all([is_similar(x,Y[i]) for i,x in enumerate(X)])\n",
    "        else:\n",
    "            return False\n",
    "    return abs(X-Y) <= 1e-7"
   ]
  },
  {
   "cell_type": "markdown",
   "metadata": {
    "deletable": false,
    "editable": false,
    "nbgrader": {
     "cell_type": "markdown",
     "checksum": "9cdcfa801e40f3e42037be2e20919269",
     "grade": false,
     "grade_id": "SOAL-1",
     "locked": true,
     "schema_version": 3,
     "solution": false,
     "task": false
    }
   },
   "source": [
    "## Soal 1 \n",
    "### Linear Regression (20 poin)\n",
    "\n",
    "* Pada soal ini Anda diminta untuk mengimplementasikan Linear Regression untuk mencari hubungan antara atribut-atribut yang ada pada data dalam mempengaruhi harga self insurance seseorang\n",
    "* Data yang digunakan memiliki 5 fitur, yaitu age, sex, bmi, children, smoke. Charges adalah variabel target yang akan diprediksi"
   ]
  },
  {
   "cell_type": "code",
   "execution_count": 155,
   "metadata": {
    "deletable": false,
    "editable": false,
    "nbgrader": {
     "cell_type": "code",
     "checksum": "c74fe7fb3eee32e50fd49942f5cababe",
     "grade": false,
     "grade_id": "cell-7f3d12c61b85aa8b",
     "locked": true,
     "schema_version": 3,
     "solution": false,
     "task": false
    }
   },
   "outputs": [
    {
     "data": {
      "text/html": [
       "<div>\n",
       "<style scoped>\n",
       "    .dataframe tbody tr th:only-of-type {\n",
       "        vertical-align: middle;\n",
       "    }\n",
       "\n",
       "    .dataframe tbody tr th {\n",
       "        vertical-align: top;\n",
       "    }\n",
       "\n",
       "    .dataframe thead th {\n",
       "        text-align: right;\n",
       "    }\n",
       "</style>\n",
       "<table border=\"1\" class=\"dataframe\">\n",
       "  <thead>\n",
       "    <tr style=\"text-align: right;\">\n",
       "      <th></th>\n",
       "      <th>age</th>\n",
       "      <th>sex</th>\n",
       "      <th>bmi</th>\n",
       "      <th>children</th>\n",
       "      <th>smoker</th>\n",
       "      <th>charges</th>\n",
       "    </tr>\n",
       "  </thead>\n",
       "  <tbody>\n",
       "    <tr>\n",
       "      <th>0</th>\n",
       "      <td>19</td>\n",
       "      <td>female</td>\n",
       "      <td>27.900</td>\n",
       "      <td>0.0</td>\n",
       "      <td>yes</td>\n",
       "      <td>16884.92400</td>\n",
       "    </tr>\n",
       "    <tr>\n",
       "      <th>1</th>\n",
       "      <td>18</td>\n",
       "      <td>male</td>\n",
       "      <td>33.770</td>\n",
       "      <td>1.0</td>\n",
       "      <td>no</td>\n",
       "      <td>1725.55230</td>\n",
       "    </tr>\n",
       "    <tr>\n",
       "      <th>2</th>\n",
       "      <td>28</td>\n",
       "      <td>male</td>\n",
       "      <td>33.000</td>\n",
       "      <td>3.0</td>\n",
       "      <td>no</td>\n",
       "      <td>4449.46200</td>\n",
       "    </tr>\n",
       "    <tr>\n",
       "      <th>3</th>\n",
       "      <td>33</td>\n",
       "      <td>male</td>\n",
       "      <td>22.705</td>\n",
       "      <td>0.0</td>\n",
       "      <td>no</td>\n",
       "      <td>21984.47061</td>\n",
       "    </tr>\n",
       "    <tr>\n",
       "      <th>4</th>\n",
       "      <td>32</td>\n",
       "      <td>male</td>\n",
       "      <td>28.880</td>\n",
       "      <td>0.0</td>\n",
       "      <td>no</td>\n",
       "      <td>3866.85520</td>\n",
       "    </tr>\n",
       "    <tr>\n",
       "      <th>5</th>\n",
       "      <td>31</td>\n",
       "      <td>female</td>\n",
       "      <td>25.740</td>\n",
       "      <td>0.0</td>\n",
       "      <td>no</td>\n",
       "      <td>3756.62160</td>\n",
       "    </tr>\n",
       "    <tr>\n",
       "      <th>6</th>\n",
       "      <td>46</td>\n",
       "      <td>female</td>\n",
       "      <td>33.440</td>\n",
       "      <td>1.0</td>\n",
       "      <td>no</td>\n",
       "      <td>8240.58960</td>\n",
       "    </tr>\n",
       "    <tr>\n",
       "      <th>7</th>\n",
       "      <td>37</td>\n",
       "      <td>female</td>\n",
       "      <td>27.740</td>\n",
       "      <td>3.0</td>\n",
       "      <td>no</td>\n",
       "      <td>7281.50560</td>\n",
       "    </tr>\n",
       "    <tr>\n",
       "      <th>8</th>\n",
       "      <td>37</td>\n",
       "      <td>male</td>\n",
       "      <td>29.830</td>\n",
       "      <td>2.0</td>\n",
       "      <td>no</td>\n",
       "      <td>6406.41070</td>\n",
       "    </tr>\n",
       "    <tr>\n",
       "      <th>9</th>\n",
       "      <td>60</td>\n",
       "      <td>female</td>\n",
       "      <td>25.840</td>\n",
       "      <td>0.0</td>\n",
       "      <td>no</td>\n",
       "      <td>28923.13692</td>\n",
       "    </tr>\n",
       "  </tbody>\n",
       "</table>\n",
       "</div>"
      ],
      "text/plain": [
       "   age     sex     bmi  children smoker      charges\n",
       "0   19  female  27.900       0.0    yes  16884.92400\n",
       "1   18    male  33.770       1.0     no   1725.55230\n",
       "2   28    male  33.000       3.0     no   4449.46200\n",
       "3   33    male  22.705       0.0     no  21984.47061\n",
       "4   32    male  28.880       0.0     no   3866.85520\n",
       "5   31  female  25.740       0.0     no   3756.62160\n",
       "6   46  female  33.440       1.0     no   8240.58960\n",
       "7   37  female  27.740       3.0     no   7281.50560\n",
       "8   37    male  29.830       2.0     no   6406.41070\n",
       "9   60  female  25.840       0.0     no  28923.13692"
      ]
     },
     "execution_count": 155,
     "metadata": {},
     "output_type": "execute_result"
    }
   ],
   "source": [
    "data_linreg = pd.read_csv(\"insurance.csv\") #load the dataset\n",
    "data_linreg.head(10)"
   ]
  },
  {
   "cell_type": "markdown",
   "metadata": {
    "deletable": false,
    "editable": false,
    "nbgrader": {
     "cell_type": "markdown",
     "checksum": "16dae610552d5075aa7bd0885fd466cd",
     "grade": false,
     "grade_id": "cell-4581bda434001b19",
     "locked": true,
     "schema_version": 3,
     "solution": false,
     "task": false
    }
   },
   "source": [
    "Silahkan melakukan preprocessing data. Beberapa preprocessing yang bisa dilakukan antara lain melakukan encode pada data kategori, menangani missing value, normalisasi data value, dan sebagainya"
   ]
  },
  {
   "cell_type": "code",
   "execution_count": 156,
   "metadata": {},
   "outputs": [
    {
     "name": "stderr",
     "output_type": "stream",
     "text": [
      "c:\\users\\irfanazizalamin\\appdata\\local\\programs\\python\\python37\\lib\\site-packages\\ipykernel_launcher.py:7: SettingWithCopyWarning: \n",
      "A value is trying to be set on a copy of a slice from a DataFrame\n",
      "\n",
      "See the caveats in the documentation: http://pandas.pydata.org/pandas-docs/stable/indexing.html#indexing-view-versus-copy\n",
      "  import sys\n",
      "c:\\users\\irfanazizalamin\\appdata\\local\\programs\\python\\python37\\lib\\site-packages\\ipykernel_launcher.py:8: SettingWithCopyWarning: \n",
      "A value is trying to be set on a copy of a slice from a DataFrame\n",
      "\n",
      "See the caveats in the documentation: http://pandas.pydata.org/pandas-docs/stable/indexing.html#indexing-view-versus-copy\n",
      "  \n",
      "c:\\users\\irfanazizalamin\\appdata\\local\\programs\\python\\python37\\lib\\site-packages\\ipykernel_launcher.py:10: SettingWithCopyWarning: \n",
      "A value is trying to be set on a copy of a slice from a DataFrame\n",
      "\n",
      "See the caveats in the documentation: http://pandas.pydata.org/pandas-docs/stable/indexing.html#indexing-view-versus-copy\n",
      "  # Remove the CWD from sys.path while we load stuff.\n",
      "c:\\users\\irfanazizalamin\\appdata\\local\\programs\\python\\python37\\lib\\site-packages\\ipykernel_launcher.py:11: SettingWithCopyWarning: \n",
      "A value is trying to be set on a copy of a slice from a DataFrame\n",
      "\n",
      "See the caveats in the documentation: http://pandas.pydata.org/pandas-docs/stable/indexing.html#indexing-view-versus-copy\n",
      "  # This is added back by InteractiveShellApp.init_path()\n"
     ]
    },
    {
     "data": {
      "text/html": [
       "<div>\n",
       "<style scoped>\n",
       "    .dataframe tbody tr th:only-of-type {\n",
       "        vertical-align: middle;\n",
       "    }\n",
       "\n",
       "    .dataframe tbody tr th {\n",
       "        vertical-align: top;\n",
       "    }\n",
       "\n",
       "    .dataframe thead th {\n",
       "        text-align: right;\n",
       "    }\n",
       "</style>\n",
       "<table border=\"1\" class=\"dataframe\">\n",
       "  <thead>\n",
       "    <tr style=\"text-align: right;\">\n",
       "      <th></th>\n",
       "      <th>age</th>\n",
       "      <th>sex</th>\n",
       "      <th>bmi</th>\n",
       "      <th>children</th>\n",
       "      <th>smoker</th>\n",
       "      <th>charges</th>\n",
       "    </tr>\n",
       "  </thead>\n",
       "  <tbody>\n",
       "    <tr>\n",
       "      <th>0</th>\n",
       "      <td>0.021739</td>\n",
       "      <td>0</td>\n",
       "      <td>0.321227</td>\n",
       "      <td>0.0</td>\n",
       "      <td>1</td>\n",
       "      <td>0.251611</td>\n",
       "    </tr>\n",
       "    <tr>\n",
       "      <th>1</th>\n",
       "      <td>0.000000</td>\n",
       "      <td>1</td>\n",
       "      <td>0.479150</td>\n",
       "      <td>0.2</td>\n",
       "      <td>0</td>\n",
       "      <td>0.009636</td>\n",
       "    </tr>\n",
       "    <tr>\n",
       "      <th>2</th>\n",
       "      <td>0.217391</td>\n",
       "      <td>1</td>\n",
       "      <td>0.458434</td>\n",
       "      <td>0.6</td>\n",
       "      <td>0</td>\n",
       "      <td>0.053115</td>\n",
       "    </tr>\n",
       "    <tr>\n",
       "      <th>3</th>\n",
       "      <td>0.326087</td>\n",
       "      <td>1</td>\n",
       "      <td>0.181464</td>\n",
       "      <td>0.0</td>\n",
       "      <td>0</td>\n",
       "      <td>0.333010</td>\n",
       "    </tr>\n",
       "    <tr>\n",
       "      <th>4</th>\n",
       "      <td>0.304348</td>\n",
       "      <td>1</td>\n",
       "      <td>0.347592</td>\n",
       "      <td>0.0</td>\n",
       "      <td>0</td>\n",
       "      <td>0.043816</td>\n",
       "    </tr>\n",
       "  </tbody>\n",
       "</table>\n",
       "</div>"
      ],
      "text/plain": [
       "        age sex       bmi  children smoker   charges\n",
       "0  0.021739   0  0.321227       0.0      1  0.251611\n",
       "1  0.000000   1  0.479150       0.2      0  0.009636\n",
       "2  0.217391   1  0.458434       0.6      0  0.053115\n",
       "3  0.326087   1  0.181464       0.0      0  0.333010\n",
       "4  0.304348   1  0.347592       0.0      0  0.043816"
      ]
     },
     "execution_count": 156,
     "metadata": {},
     "output_type": "execute_result"
    }
   ],
   "source": [
    "# PREPROCESSING DATA\n",
    "# data_linreg\n",
    "df = data_linreg.dropna()\n",
    "\n",
    "# merubah nominal value ke numeric values\n",
    "if (df['sex'].dtypes == 'O'):\n",
    "    df['sex'][df['sex'] == \"male\"] = 1\n",
    "    df['sex'][df['sex'] == \"female\"] = 0\n",
    "if (df['smoker'].dtypes == 'O'):\n",
    "    df['smoker'][df['smoker'] == \"yes\"] = 1\n",
    "    df['smoker'][df['smoker'] == \"no\"] = 0\n",
    "\n",
    "# standarisasi dataset \n",
    "df = (df-df.min())/(df.max()-df.min())\n",
    "# normalisasi dataset\n",
    "# df = (df - df.mean()) / df.std()\n",
    "\n",
    "data_linreg = df\n",
    "df.head()"
   ]
  },
  {
   "cell_type": "code",
   "execution_count": 157,
   "metadata": {
    "deletable": false,
    "editable": false,
    "nbgrader": {
     "cell_type": "code",
     "checksum": "ad7d4ea7578d703577665fe0e1178ecd",
     "grade": false,
     "grade_id": "cell-23022f03299ee6a4",
     "locked": true,
     "schema_version": 3,
     "solution": false,
     "task": false
    }
   },
   "outputs": [],
   "source": [
    "# Pembagian fitur dan label\n",
    "features = data_linreg.drop([\"charges\"], axis=1).values\n",
    "label = data_linreg['charges'].values"
   ]
  },
  {
   "cell_type": "code",
   "execution_count": 158,
   "metadata": {},
   "outputs": [
    {
     "name": "stdout",
     "output_type": "stream",
     "text": [
      "[[0.021739130434782608 0.0 0.3212267958030669 0.0 1.0]\n",
      " [0.0 1.0 0.479149852031208 0.2 0.0]\n",
      " [0.21739130434782608 1.0 0.4584342211460855 0.6 0.0]\n",
      " ...\n",
      " [0.0 0.0 0.5620123755716976 0.0 0.0]\n",
      " [0.06521739130434782 0.0 0.26472962066182404 0.0 0.0]\n",
      " [0.9347826086956522 0.0 0.35270379338175945 0.0 1.0]]\n",
      "[0.25161076 0.00963595 0.05311516 ... 0.00810808 0.01414352 0.44724873]\n"
     ]
    }
   ],
   "source": [
    "print(features)\n",
    "print(label)"
   ]
  },
  {
   "cell_type": "markdown",
   "metadata": {
    "deletable": false,
    "editable": false,
    "nbgrader": {
     "cell_type": "markdown",
     "checksum": "05f02d762879d177acddeee05b68f640",
     "grade": false,
     "grade_id": "cell-967f16b7a9da60bc",
     "locked": true,
     "schema_version": 3,
     "solution": false,
     "task": false
    }
   },
   "source": [
    "Tanpa menggunakan library external, implementasikan fungsi hipotesis h(x)\n",
    "\n",
    "$$ h(x) = w^Tx $$\n",
    "\n",
    "dengan w adalah bobot dan x direpresentasikan sebagai list dengan panjang yang sama dengan w"
   ]
  },
  {
   "cell_type": "code",
   "execution_count": 159,
   "metadata": {},
   "outputs": [],
   "source": [
    "# function untuk mencari hipotesis dari inputan x, dimana bobot sudah diketahui\n",
    "def h(x):\n",
    "    global w\n",
    "    # YOUR CODE HERE\n",
    "    return np.dot(np.asarray(w), x)\n",
    "    raise NotImplementedError()"
   ]
  },
  {
   "cell_type": "code",
   "execution_count": 160,
   "metadata": {
    "deletable": false,
    "editable": false,
    "nbgrader": {
     "cell_type": "code",
     "checksum": "6c0ae800307901ac08224c0e60fd6ec5",
     "grade": true,
     "grade_id": "cell-83241ad3d0a56962",
     "locked": true,
     "points": 1,
     "schema_version": 3,
     "solution": false,
     "task": false
    }
   },
   "outputs": [],
   "source": [
    "# code ini digunakan untuk memeriksa apakah fungsi h yang Anda implementasikan sudah sesuai\n",
    "w, x = [1,2,3], [2,3,4]\n",
    "assert is_similar(h(x),20)\n",
    "\n",
    "w, x = [-1,-1,-1], [2,3,4]\n",
    "assert is_similar(h(x),-9)"
   ]
  },
  {
   "cell_type": "markdown",
   "metadata": {
    "deletable": false,
    "editable": false,
    "nbgrader": {
     "cell_type": "markdown",
     "checksum": "a8f3002d92a89bb884f59c5aaeb6e139",
     "grade": false,
     "grade_id": "cell-ebc69cd90af8b0f5",
     "locked": true,
     "schema_version": 3,
     "solution": false,
     "task": false
    }
   },
   "source": [
    "tanpa menggunakan library eksternal, gunakan h yang sudah diemplementasikan di atas untuk mengimplementasikan cost funtion $J(w)$ untuk Linear Regression\n",
    "\n",
    "$$J(w) = \\frac{1}{2}\\sum_{i=1}^m (h_w(x^{(i)}) - y^{(i)})^2 $$"
   ]
  },
  {
   "cell_type": "code",
   "execution_count": 161,
   "metadata": {},
   "outputs": [],
   "source": [
    "# function ini digunakan untuk mencari cost yang digunakan untuk\n",
    "# mengukur seberapa dekat hyperplane linear ke semua data\n",
    "def cost_func_linreg(X, y):\n",
    "    m = len(y)\n",
    "    # YOUR CODE HERE\n",
    "    total = 0 \n",
    "    for i in range(m):\n",
    "        total += (h(X[i]) - y[i]) ** 2\n",
    "    return total * (1/2)\n",
    "    raise NotImplementedError()"
   ]
  },
  {
   "cell_type": "code",
   "execution_count": 162,
   "metadata": {
    "deletable": false,
    "editable": false,
    "nbgrader": {
     "cell_type": "code",
     "checksum": "29f8c0d079c5e1e7c44dc67e9cf3299d",
     "grade": false,
     "grade_id": "cell-0f7b21dadeb08c05",
     "locked": true,
     "schema_version": 3,
     "solution": false,
     "task": false
    }
   },
   "outputs": [],
   "source": [
    "# code ini digunakan untuk memeriksa apakah cost function yang Anda implementasikan sudah sesuai\n",
    "w, X, y = [-1, 0], [[1,1],[0,1]], [-1,0]\n",
    "assert is_similar(cost_func_linreg(X,y),0)\n",
    "\n",
    "w, X, y = [1, 1, 2], [[1,1,1],[0,0,0]], [0,0]\n",
    "assert is_similar(cost_func_linreg(X,y),8)"
   ]
  },
  {
   "cell_type": "markdown",
   "metadata": {
    "deletable": false,
    "editable": false,
    "nbgrader": {
     "cell_type": "markdown",
     "checksum": "23b43f2f8e580cd0fc871cfac7ee59aa",
     "grade": false,
     "grade_id": "cell-80221c70667c2238",
     "locked": true,
     "schema_version": 3,
     "solution": false,
     "task": false
    }
   },
   "source": [
    "tanpa menggunakan library eksternal, gunakan cost function di atas untuk mengimplementasikan satu iterasi dari stochastic gradient descent"
   ]
  },
  {
   "cell_type": "code",
   "execution_count": 163,
   "metadata": {},
   "outputs": [],
   "source": [
    "# lr adalah learning rate\n",
    "\n",
    "# function ini mencari stochastic gradient descent yang berfungsi untuk\n",
    "# menemukan nilai-nilai parameter fungsi yang meminimalkan cost fungtion\n",
    "def SGD(X, y, lr=1e-4):\n",
    "    global w\n",
    "    alpha, m = lr, len(y)\n",
    "    for i in range(m):  \n",
    "        for j in range(len(w)):\n",
    "            w[j] += ( alpha * (y[i] - h(X[i])) * X[i][j] )\n",
    "\n",
    "    return w"
   ]
  },
  {
   "cell_type": "markdown",
   "metadata": {},
   "source": [
    "implementasikan fungsi is_convergen untuk menentukan termination condition (slide kuliah halaman 18). Anda bisa menambahkan parameter yang sesuai dengan termination condition yang dipilih. Fungsi ini akan mengembalikan nilai boolean termination_condition"
   ]
  },
  {
   "cell_type": "code",
   "execution_count": 164,
   "metadata": {},
   "outputs": [],
   "source": [
    "# function ini akan mengecek konvergensi dari fungsi inputan\n",
    "def is_convergen(history, number_of_iteration):\n",
    "    # YOUR CODE HERE\n",
    "    if len(history) <= 1:\n",
    "        return False\n",
    "    if abs(history[number_of_iteration - 1] - history[number_of_iteration - 2]) < 10**(-4):\n",
    "        return True\n",
    "    else:\n",
    "        return False"
   ]
  },
  {
   "cell_type": "code",
   "execution_count": 166,
   "metadata": {},
   "outputs": [
    {
     "name": "stdout",
     "output_type": "stream",
     "text": [
      "cost func before 9113.941910448335\n",
      "weight before [2, 2, 2, 2, 2]\n",
      "cost func after 71 iteration 6.442208039018111\n",
      "weight after 71 iteration [0.16586726931445753, -0.011479249119973917, 0.11976887924740535, 0.023209829810523917, 0.37406379315023053]\n",
      "[9113.941910448335, 987.6497565704651, 169.68573367985655, 71.7068767484785, 49.5694069578172, 38.62385570898165, 31.299886599857317, 26.030937681586174, 22.125125226862068, 19.162123775888364, 16.867530157716125, 15.057949835432744, 13.608530605828113, 12.432562797259386, 11.468498896814625, 10.67163832091295, 10.00875935942024, 9.454619343463447, 8.989644485058035, 8.598381949854167, 8.268444208980206, 7.989774551118176, 7.754124753741128, 7.554675038185213, 7.385751149791018, 7.242609078879694, 7.121267928674329, 7.018377844903222, 6.931114066637232, 6.857090866240248, 6.7942909384801355, 6.741007002904354, 6.6957932069881645, 6.657424492039289, 6.624862493459547, 6.597226845723936, 6.573770985323215, 6.553861714820067, 6.536961923265948, 6.522615962728635, 6.510437264584797, 6.5000978474252, 6.49131942439596, 6.4838658641040015, 6.477536797756143, 6.472162197429741, 6.467597777420203, 6.463721093371313, 6.460428233087645, 6.457631009137062, 6.455254577057322, 6.4532354145788915, 6.451519607097584, 6.45006139295208, 6.448821929113004, 6.447768243869871, 6.446872348170594, 6.446110481568033, 6.4454624723744045, 6.444911194716723, 6.444442107811033, 6.444042864997445, 6.443702981967829, 6.443413555218326, 6.443167023118648, 6.442956963143196, 6.442777919786401, 6.44262525851558, 6.4424950418181695, 6.44238392399764, 6.442289061879375]\n",
      "\n",
      "cost/loss func plot\n"
     ]
    },
    {
     "data": {
      "image/png": "[encoded data removed]",
      "text/plain": [
       "<Figure size 720x360 with 1 Axes>"
      ]
     },
     "metadata": {
      "needs_background": "light"
     },
     "output_type": "display_data"
    }
   ],
   "source": [
    "# PLAYGROUND\n",
    "# you can do anything here as long as not adding any new import\n",
    "global w\n",
    "\n",
    "w, features, label = [2, 2, 2, 2, 2], features, label\n",
    "\n",
    "history = []\n",
    "print('cost func before', cost_func_linreg(features, label))\n",
    "print('weight before', w)\n",
    "\n",
    "number_of_iteration = 0\n",
    "\n",
    "# bagian ini dapat anda modifikasi sesuai dengan fungsi is_convergen yang telah dibuat diatas\n",
    "while not is_convergen(history, number_of_iteration):\n",
    "    history.append(cost_func_linreg(features, label)) \n",
    "    w = SGD(features, label, lr=0.001)\n",
    "    number_of_iteration += 1\n",
    "    \n",
    "print('cost func after ' + str(number_of_iteration) + ' iteration ' + str(cost_func_linreg(features, label)))\n",
    "print('weight after ' + str(number_of_iteration) + ' iteration ' + str(w))\n",
    "\n",
    "print(history)\n",
    "\n",
    "print('\\ncost/loss func plot')\n",
    "plt.figure(figsize=(10,5))\n",
    "plt.plot(history)\n",
    "plt.xlabel('number of iteration')\n",
    "plt.ylabel('loss')\n",
    "plt.grid(True)\n",
    "plt.show()\n"
   ]
  },
  {
   "cell_type": "code",
   "execution_count": 167,
   "metadata": {},
   "outputs": [
    {
     "data": {
      "image/png": "[encoded data removed]",
      "text/plain": [
       "<Figure size 432x288 with 1 Axes>"
      ]
     },
     "metadata": {
      "needs_background": "light"
     },
     "output_type": "display_data"
    },
    {
     "data": {
      "image/png": "[encoded data removed]",
      "text/plain": [
       "<Figure size 432x288 with 1 Axes>"
      ]
     },
     "metadata": {
      "needs_background": "light"
     },
     "output_type": "display_data"
    },
    {
     "data": {
      "image/png": "[encoded data removed]",
      "text/plain": [
       "<Figure size 432x288 with 1 Axes>"
      ]
     },
     "metadata": {
      "needs_background": "light"
     },
     "output_type": "display_data"
    },
    {
     "data": {
      "image/png": "[encoded data removed]",
      "text/plain": [
       "<Figure size 432x288 with 1 Axes>"
      ]
     },
     "metadata": {
      "needs_background": "light"
     },
     "output_type": "display_data"
    },
    {
     "data": {
      "image/png": "[encoded data removed]",
      "text/plain": [
       "<Figure size 432x288 with 1 Axes>"
      ]
     },
     "metadata": {
      "needs_background": "light"
     },
     "output_type": "display_data"
    }
   ],
   "source": [
    "# visualisasikan variabel charges dan 1 fitur yang menurut Anda berpengaruh paling besar pada charges kedalam 2D plot\n",
    "\n",
    "def linreg_plot(feature, label):\n",
    "    plt.scatter(feature, label)\n",
    "    plt.plot([min(feature), max(feature)], [min(label), max(label)], color='red') # predicted\n",
    "    plt.show()\n",
    "\n",
    "dt_features = pd.DataFrame(np.array(features), columns=data_linreg.columns[:-1])\n",
    "\n",
    "# Ambil fitur yang Anda pilih dari dt_features dengan mengganti \"FITUR X\"\n",
    "\n",
    "# melihat plotting dari tiap fitur yang ada pada dataset\n",
    "for i in dt_features.columns:\n",
    "    feature = dt_features[i].to_numpy()\n",
    "    linreg_plot(feature, label)"
   ]
  },
  {
   "cell_type": "markdown",
   "metadata": {
    "deletable": false,
    "editable": false,
    "nbgrader": {
     "cell_type": "markdown",
     "checksum": "b9bafad8bc0e6448162d512270a40572",
     "grade": false,
     "grade_id": "SOAL-2",
     "locked": true,
     "schema_version": 3,
     "solution": false,
     "task": false
    }
   },
   "source": [
    "## Soal 2 \n",
    "### Analisis Linear Regression (5 poin)\n",
    "* Jelaskan secara singkat analisis Anda terhadap hasil Linear Regression yang didapatkan"
   ]
  },
  {
   "cell_type": "markdown",
   "metadata": {},
   "source": [
    "## JAWABAN\n",
    "\n",
    "Linear Regression sangat terpengaruh dari weight yang diberikan. Weight yang tepat akan menjadikan iterasi makin sedikit untuk mendapatkan konvergensi (semakin cepta). Pada solusi saya, sesuatu lain yang mempengaruhi kecepatan konvergensi adalah standarisasi dan normalisasi"
   ]
  },
  {
   "cell_type": "markdown",
   "metadata": {
    "deletable": false,
    "editable": false,
    "nbgrader": {
     "cell_type": "markdown",
     "checksum": "ed3470d5c6a45c099837c15d3accd699",
     "grade": false,
     "grade_id": "SOAL-3",
     "locked": true,
     "schema_version": 3,
     "solution": false,
     "task": false
    }
   },
   "source": [
    "## Soal 3  \n",
    "### Logistic Regression (20 poin)\n",
    "* Pada soal ini Anda diminta untuk mengimplementasikan Logistic Regression untuk klasifikasi pasien liver atau non liver, jika diketahui atribut-atribut yang ada pada pasien_liver.csv"
   ]
  },
  {
   "cell_type": "code",
   "execution_count": 122,
   "metadata": {
    "deletable": false,
    "editable": false,
    "nbgrader": {
     "cell_type": "code",
     "checksum": "f191021318838df0f5c23de43e1531dd",
     "grade": false,
     "grade_id": "cell-bb7133f6627745b2",
     "locked": true,
     "schema_version": 3,
     "solution": false,
     "task": false
    }
   },
   "outputs": [
    {
     "data": {
      "text/html": [
       "<div>\n",
       "<style scoped>\n",
       "    .dataframe tbody tr th:only-of-type {\n",
       "        vertical-align: middle;\n",
       "    }\n",
       "\n",
       "    .dataframe tbody tr th {\n",
       "        vertical-align: top;\n",
       "    }\n",
       "\n",
       "    .dataframe thead th {\n",
       "        text-align: right;\n",
       "    }\n",
       "</style>\n",
       "<table border=\"1\" class=\"dataframe\">\n",
       "  <thead>\n",
       "    <tr style=\"text-align: right;\">\n",
       "      <th></th>\n",
       "      <th>0</th>\n",
       "      <th>1</th>\n",
       "      <th>2</th>\n",
       "      <th>3</th>\n",
       "      <th>4</th>\n",
       "      <th>5</th>\n",
       "      <th>6</th>\n",
       "      <th>7</th>\n",
       "      <th>8</th>\n",
       "      <th>9</th>\n",
       "      <th>10</th>\n",
       "    </tr>\n",
       "  </thead>\n",
       "  <tbody>\n",
       "    <tr>\n",
       "      <th>0</th>\n",
       "      <td>30</td>\n",
       "      <td>Female</td>\n",
       "      <td>0.7</td>\n",
       "      <td>0.2</td>\n",
       "      <td>63.0</td>\n",
       "      <td>31.0</td>\n",
       "      <td>27</td>\n",
       "      <td>5.8</td>\n",
       "      <td>3.4</td>\n",
       "      <td>1.40</td>\n",
       "      <td>1</td>\n",
       "    </tr>\n",
       "    <tr>\n",
       "      <th>1</th>\n",
       "      <td>29</td>\n",
       "      <td>Male</td>\n",
       "      <td>1.0</td>\n",
       "      <td>0.3</td>\n",
       "      <td>75.0</td>\n",
       "      <td>25.0</td>\n",
       "      <td>26</td>\n",
       "      <td>5.1</td>\n",
       "      <td>2.9</td>\n",
       "      <td>1.30</td>\n",
       "      <td>1</td>\n",
       "    </tr>\n",
       "    <tr>\n",
       "      <th>2</th>\n",
       "      <td>50</td>\n",
       "      <td>Male</td>\n",
       "      <td>7.3</td>\n",
       "      <td>3.7</td>\n",
       "      <td>92.0</td>\n",
       "      <td>44.0</td>\n",
       "      <td>236</td>\n",
       "      <td>6.8</td>\n",
       "      <td>1.6</td>\n",
       "      <td>0.30</td>\n",
       "      <td>1</td>\n",
       "    </tr>\n",
       "    <tr>\n",
       "      <th>3</th>\n",
       "      <td>45</td>\n",
       "      <td>Male</td>\n",
       "      <td>1.1</td>\n",
       "      <td>0.4</td>\n",
       "      <td>92.0</td>\n",
       "      <td>91.0</td>\n",
       "      <td>188</td>\n",
       "      <td>7.2</td>\n",
       "      <td>3.8</td>\n",
       "      <td>1.11</td>\n",
       "      <td>1</td>\n",
       "    </tr>\n",
       "    <tr>\n",
       "      <th>4</th>\n",
       "      <td>52</td>\n",
       "      <td>Male</td>\n",
       "      <td>1.8</td>\n",
       "      <td>0.8</td>\n",
       "      <td>97.0</td>\n",
       "      <td>85.0</td>\n",
       "      <td>78</td>\n",
       "      <td>6.4</td>\n",
       "      <td>2.7</td>\n",
       "      <td>0.70</td>\n",
       "      <td>1</td>\n",
       "    </tr>\n",
       "    <tr>\n",
       "      <th>5</th>\n",
       "      <td>40</td>\n",
       "      <td>Male</td>\n",
       "      <td>0.6</td>\n",
       "      <td>0.1</td>\n",
       "      <td>98.0</td>\n",
       "      <td>35.0</td>\n",
       "      <td>31</td>\n",
       "      <td>6.0</td>\n",
       "      <td>3.2</td>\n",
       "      <td>1.10</td>\n",
       "      <td>1</td>\n",
       "    </tr>\n",
       "    <tr>\n",
       "      <th>6</th>\n",
       "      <td>58</td>\n",
       "      <td>Male</td>\n",
       "      <td>0.4</td>\n",
       "      <td>0.1</td>\n",
       "      <td>100.0</td>\n",
       "      <td>59.0</td>\n",
       "      <td>126</td>\n",
       "      <td>4.3</td>\n",
       "      <td>2.5</td>\n",
       "      <td>1.40</td>\n",
       "      <td>1</td>\n",
       "    </tr>\n",
       "    <tr>\n",
       "      <th>7</th>\n",
       "      <td>72</td>\n",
       "      <td>Male</td>\n",
       "      <td>0.6</td>\n",
       "      <td>0.1</td>\n",
       "      <td>102.0</td>\n",
       "      <td>31.0</td>\n",
       "      <td>35</td>\n",
       "      <td>6.3</td>\n",
       "      <td>3.2</td>\n",
       "      <td>1.00</td>\n",
       "      <td>1</td>\n",
       "    </tr>\n",
       "    <tr>\n",
       "      <th>8</th>\n",
       "      <td>62</td>\n",
       "      <td>Male</td>\n",
       "      <td>5.0</td>\n",
       "      <td>2.1</td>\n",
       "      <td>103.0</td>\n",
       "      <td>18.0</td>\n",
       "      <td>40</td>\n",
       "      <td>5.0</td>\n",
       "      <td>2.1</td>\n",
       "      <td>1.72</td>\n",
       "      <td>1</td>\n",
       "    </tr>\n",
       "    <tr>\n",
       "      <th>9</th>\n",
       "      <td>35</td>\n",
       "      <td>Male</td>\n",
       "      <td>26.3</td>\n",
       "      <td>12.1</td>\n",
       "      <td>108.0</td>\n",
       "      <td>168.0</td>\n",
       "      <td>630</td>\n",
       "      <td>9.2</td>\n",
       "      <td>2.0</td>\n",
       "      <td>0.30</td>\n",
       "      <td>1</td>\n",
       "    </tr>\n",
       "  </tbody>\n",
       "</table>\n",
       "</div>"
      ],
      "text/plain": [
       "   0       1     2     3      4      5    6    7    8     9   10\n",
       "0  30  Female   0.7   0.2   63.0   31.0   27  5.8  3.4  1.40   1\n",
       "1  29    Male   1.0   0.3   75.0   25.0   26  5.1  2.9  1.30   1\n",
       "2  50    Male   7.3   3.7   92.0   44.0  236  6.8  1.6  0.30   1\n",
       "3  45    Male   1.1   0.4   92.0   91.0  188  7.2  3.8  1.11   1\n",
       "4  52    Male   1.8   0.8   97.0   85.0   78  6.4  2.7  0.70   1\n",
       "5  40    Male   0.6   0.1   98.0   35.0   31  6.0  3.2  1.10   1\n",
       "6  58    Male   0.4   0.1  100.0   59.0  126  4.3  2.5  1.40   1\n",
       "7  72    Male   0.6   0.1  102.0   31.0   35  6.3  3.2  1.00   1\n",
       "8  62    Male   5.0   2.1  103.0   18.0   40  5.0  2.1  1.72   1\n",
       "9  35    Male  26.3  12.1  108.0  168.0  630  9.2  2.0  0.30   1"
      ]
     },
     "execution_count": 122,
     "metadata": {},
     "output_type": "execute_result"
    }
   ],
   "source": [
    "data_logreg = pd.read_csv(\"pasien_liver.csv\", header=None)\n",
    "data_logreg.head(10)"
   ]
  },
  {
   "cell_type": "markdown",
   "metadata": {
    "deletable": false,
    "editable": false,
    "nbgrader": {
     "cell_type": "markdown",
     "checksum": "dc0dc24188693463f2dc8eb709dcf6a5",
     "grade": false,
     "grade_id": "cell-4af8b2b109b714fc",
     "locked": true,
     "schema_version": 3,
     "solution": false,
     "task": false
    }
   },
   "source": [
    "Silahkan melakukan preprocessing data jika diperlukan. Anda bisa menggunakan preprocessing yang telah Anda lakukan pada PR 1"
   ]
  },
  {
   "cell_type": "code",
   "execution_count": 137,
   "metadata": {},
   "outputs": [
    {
     "name": "stderr",
     "output_type": "stream",
     "text": [
      "c:\\users\\irfanazizalamin\\appdata\\local\\programs\\python\\python37\\lib\\site-packages\\ipykernel_launcher.py:6: SettingWithCopyWarning: \n",
      "A value is trying to be set on a copy of a slice from a DataFrame\n",
      "\n",
      "See the caveats in the documentation: http://pandas.pydata.org/pandas-docs/stable/indexing.html#indexing-view-versus-copy\n",
      "  \n",
      "c:\\users\\irfanazizalamin\\appdata\\local\\programs\\python\\python37\\lib\\site-packages\\ipykernel_launcher.py:7: SettingWithCopyWarning: \n",
      "A value is trying to be set on a copy of a slice from a DataFrame\n",
      "\n",
      "See the caveats in the documentation: http://pandas.pydata.org/pandas-docs/stable/indexing.html#indexing-view-versus-copy\n",
      "  import sys\n"
     ]
    }
   ],
   "source": [
    "# PREPROCESSING DATA\n",
    "df1 = data_logreg.dropna()\n",
    "\n",
    "# merubah nominal value ke numeric values\n",
    "if (df1[1].dtypes == 'O'):\n",
    "    df1[1][df1[1] == \"Male\"] = 1\n",
    "    df1[1][df1[1] == \"Female\"] = 0\n",
    "\n",
    "# standarisasi dataset \n",
    "df1 = (df1-df1.min())/(df1.max()-df1.min())\n",
    "# normalisasi dataset\n",
    "# df1 = (df1 - df1.mean()) / df1.std()\n",
    "\n",
    "data_logreg = df1"
   ]
  },
  {
   "cell_type": "code",
   "execution_count": 138,
   "metadata": {},
   "outputs": [
    {
     "data": {
      "text/html": [
       "<div>\n",
       "<style scoped>\n",
       "    .dataframe tbody tr th:only-of-type {\n",
       "        vertical-align: middle;\n",
       "    }\n",
       "\n",
       "    .dataframe tbody tr th {\n",
       "        vertical-align: top;\n",
       "    }\n",
       "\n",
       "    .dataframe thead th {\n",
       "        text-align: right;\n",
       "    }\n",
       "</style>\n",
       "<table border=\"1\" class=\"dataframe\">\n",
       "  <thead>\n",
       "    <tr style=\"text-align: right;\">\n",
       "      <th></th>\n",
       "      <th>0</th>\n",
       "      <th>1</th>\n",
       "      <th>2</th>\n",
       "      <th>3</th>\n",
       "      <th>4</th>\n",
       "      <th>5</th>\n",
       "      <th>6</th>\n",
       "      <th>7</th>\n",
       "      <th>8</th>\n",
       "      <th>9</th>\n",
       "      <th>10</th>\n",
       "    </tr>\n",
       "  </thead>\n",
       "  <tbody>\n",
       "    <tr>\n",
       "      <th>0</th>\n",
       "      <td>0.320988</td>\n",
       "      <td>0</td>\n",
       "      <td>0.011194</td>\n",
       "      <td>0.007874</td>\n",
       "      <td>0.000000</td>\n",
       "      <td>0.016935</td>\n",
       "      <td>0.003456</td>\n",
       "      <td>0.392857</td>\n",
       "      <td>0.625</td>\n",
       "      <td>0.500000</td>\n",
       "      <td>0.0</td>\n",
       "    </tr>\n",
       "    <tr>\n",
       "      <th>1</th>\n",
       "      <td>0.308642</td>\n",
       "      <td>1</td>\n",
       "      <td>0.022388</td>\n",
       "      <td>0.015748</td>\n",
       "      <td>0.005862</td>\n",
       "      <td>0.012097</td>\n",
       "      <td>0.003253</td>\n",
       "      <td>0.267857</td>\n",
       "      <td>0.500</td>\n",
       "      <td>0.454545</td>\n",
       "      <td>0.0</td>\n",
       "    </tr>\n",
       "    <tr>\n",
       "      <th>2</th>\n",
       "      <td>0.567901</td>\n",
       "      <td>1</td>\n",
       "      <td>0.257463</td>\n",
       "      <td>0.283465</td>\n",
       "      <td>0.014167</td>\n",
       "      <td>0.027419</td>\n",
       "      <td>0.045944</td>\n",
       "      <td>0.571429</td>\n",
       "      <td>0.175</td>\n",
       "      <td>0.000000</td>\n",
       "      <td>0.0</td>\n",
       "    </tr>\n",
       "    <tr>\n",
       "      <th>3</th>\n",
       "      <td>0.506173</td>\n",
       "      <td>1</td>\n",
       "      <td>0.026119</td>\n",
       "      <td>0.023622</td>\n",
       "      <td>0.014167</td>\n",
       "      <td>0.065323</td>\n",
       "      <td>0.036186</td>\n",
       "      <td>0.642857</td>\n",
       "      <td>0.725</td>\n",
       "      <td>0.368182</td>\n",
       "      <td>0.0</td>\n",
       "    </tr>\n",
       "    <tr>\n",
       "      <th>4</th>\n",
       "      <td>0.592593</td>\n",
       "      <td>1</td>\n",
       "      <td>0.052239</td>\n",
       "      <td>0.055118</td>\n",
       "      <td>0.016610</td>\n",
       "      <td>0.060484</td>\n",
       "      <td>0.013824</td>\n",
       "      <td>0.500000</td>\n",
       "      <td>0.450</td>\n",
       "      <td>0.181818</td>\n",
       "      <td>0.0</td>\n",
       "    </tr>\n",
       "  </tbody>\n",
       "</table>\n",
       "</div>"
      ],
      "text/plain": [
       "         0  1         2         3         4         5         6         7   \\\n",
       "0  0.320988  0  0.011194  0.007874  0.000000  0.016935  0.003456  0.392857   \n",
       "1  0.308642  1  0.022388  0.015748  0.005862  0.012097  0.003253  0.267857   \n",
       "2  0.567901  1  0.257463  0.283465  0.014167  0.027419  0.045944  0.571429   \n",
       "3  0.506173  1  0.026119  0.023622  0.014167  0.065323  0.036186  0.642857   \n",
       "4  0.592593  1  0.052239  0.055118  0.016610  0.060484  0.013824  0.500000   \n",
       "\n",
       "      8         9    10  \n",
       "0  0.625  0.500000  0.0  \n",
       "1  0.500  0.454545  0.0  \n",
       "2  0.175  0.000000  0.0  \n",
       "3  0.725  0.368182  0.0  \n",
       "4  0.450  0.181818  0.0  "
      ]
     },
     "execution_count": 138,
     "metadata": {},
     "output_type": "execute_result"
    }
   ],
   "source": [
    "data_logreg.head()"
   ]
  },
  {
   "cell_type": "code",
   "execution_count": 139,
   "metadata": {},
   "outputs": [],
   "source": [
    "# Pembagian fitur dan label\n",
    "classification_data = data_logreg.drop([10], axis=1).values\n",
    "classification_label = data_logreg[10].values"
   ]
  },
  {
   "cell_type": "code",
   "execution_count": 140,
   "metadata": {},
   "outputs": [],
   "source": [
    "# merubah tipe data dari object ke float untuk perhitungan selanjutnya\n",
    "classification_data = classification_data.astype('float64')"
   ]
  },
  {
   "cell_type": "code",
   "execution_count": 141,
   "metadata": {},
   "outputs": [],
   "source": [
    "class LogisticRegression:\n",
    "    def __init__(self, lr=0.01, num_iter=100000, fit_intercept=True, verbose=False):\n",
    "        self.lr = lr\n",
    "        self.num_iter = num_iter\n",
    "        self.fit_intercept = fit_intercept\n",
    "        self.verbose = verbose\n",
    "    \n",
    "    def __add_intercept(self, X):\n",
    "        intercept = np.ones((X.shape[0], 1))\n",
    "        return np.concatenate((intercept, X), axis=1)\n",
    "    \n",
    "    # membuat sigmoid function\n",
    "    def __sigmoid(self, z):\n",
    "        return 1 / (1 + np.exp(-z))\n",
    "    \n",
    "    # untuk mengevaluasi seberapa baik algoritma spesifik memodelkan dari data yang diberikan\n",
    "    def __loss(self, h, y):\n",
    "        return (-y * np.log(h) - (1 - y) * np.log(1 - h)).mean()\n",
    "    \n",
    "    # proses pembuatan algo machinenya\n",
    "    def fit(self, X, y):\n",
    "        if self.fit_intercept:\n",
    "            X = self.__add_intercept(X)\n",
    "        \n",
    "        # inisiasi weights \n",
    "        self.theta = np.zeros(X.shape[1])\n",
    "        \n",
    "        for i in range(self.num_iter):\n",
    "            z = np.dot(X, self.theta)\n",
    "            h = self.__sigmoid(z)\n",
    "            gradient = np.dot(X.T, (h - y)) / y.size\n",
    "            self.theta -= self.lr * gradient\n",
    "            \n",
    "            z = np.dot(X, self.theta)\n",
    "            h = self.__sigmoid(z)\n",
    "            loss = self.__loss(h, y)\n",
    "                \n",
    "            if(self.verbose ==True and i % 10000 == 0):\n",
    "                print(f'loss: {loss} \\t')\n",
    "    \n",
    "    # akan memberikan probability 1 (in range).\n",
    "    def predict_prob(self, X):\n",
    "        if self.fit_intercept:\n",
    "            X = self.__add_intercept(X)\n",
    "    \n",
    "        return self.__sigmoid(np.dot(X, self.theta))\n",
    "    \n",
    "    # akan memberikan either 0 or 1 sebagai output\n",
    "    def predict(self, X):\n",
    "        return self.predict_prob(X).round()"
   ]
  },
  {
   "cell_type": "code",
   "execution_count": 142,
   "metadata": {},
   "outputs": [
    {
     "name": "stdout",
     "output_type": "stream",
     "text": [
      "Wall time: 22.4 s\n"
     ]
    }
   ],
   "source": [
    "model = LogisticRegression(lr=0.1, num_iter=300000)\n",
    "%time model.fit(classification_data, classification_label)"
   ]
  },
  {
   "cell_type": "markdown",
   "metadata": {
    "deletable": false,
    "editable": false,
    "nbgrader": {
     "cell_type": "markdown",
     "checksum": "cc9c86e6520352a1988da283187fcd8f",
     "grade": false,
     "grade_id": "cell-b7943da7c76b0739",
     "locked": true,
     "schema_version": 3,
     "solution": false,
     "task": false
    }
   },
   "source": [
    "### Implementasi Logistic Regression Model dalam training dan testing data\n",
    "* Silahkan melakukan pembagian data untuk training dan testing (default 60:40)"
   ]
  },
  {
   "cell_type": "code",
   "execution_count": 143,
   "metadata": {},
   "outputs": [],
   "source": [
    "from random import seed\n",
    "from random import randrange\n",
    "from numpy import empty\n",
    "\n",
    "# Split a dataset into a train and test set\n",
    "def train_test_split(data, label, split=0.60):\n",
    "    train_data = []\n",
    "    train_label = []\n",
    "    train_size = split * len(data)\n",
    "    data_copy = data.tolist()\n",
    "    label_copy = label.tolist()\n",
    "    while len(train_data) < train_size:\n",
    "        index = randrange(len(data_copy))\n",
    "        train_data.append(data_copy.pop(index))\n",
    "        train_label.append(label_copy.pop(index))\n",
    "    \n",
    "    train_data = np.array(train_data)\n",
    "    train_label = np.array(train_label)\n",
    "    data_copy = np.array(data_copy)\n",
    "    label_copy = np.array(label_copy)\n",
    "    return train_data, train_label, data_copy, label_copy  "
   ]
  },
  {
   "cell_type": "code",
   "execution_count": 144,
   "metadata": {},
   "outputs": [],
   "source": [
    "# test train/test split\n",
    "seed(5)\n",
    "x_train_clf, y_train_clf, x_val_clf, y_val_clf = train_test_split(classification_data, classification_label)"
   ]
  },
  {
   "cell_type": "code",
   "execution_count": 145,
   "metadata": {},
   "outputs": [],
   "source": [
    "# PLAYGROUND\n",
    "# you can do anything here as long as not adding any new import\n",
    "\n",
    "logreg_model = LogisticRegression(lr=0.1, num_iter=300000)\n",
    "logreg_model.fit(x_train_clf, y_train_clf)"
   ]
  },
  {
   "cell_type": "markdown",
   "metadata": {
    "deletable": false,
    "editable": false,
    "nbgrader": {
     "cell_type": "markdown",
     "checksum": "c4a258d747120ea91e2afa50b75608d6",
     "grade": false,
     "grade_id": "cell-2de53a0072b4253b",
     "locked": true,
     "schema_version": 3,
     "solution": false,
     "task": false
    }
   },
   "source": [
    "## Evaluasi"
   ]
  },
  {
   "cell_type": "code",
   "execution_count": 146,
   "metadata": {
    "deletable": false,
    "editable": false,
    "nbgrader": {
     "cell_type": "code",
     "checksum": "e13d18253853b4812d7bd12ab012a21c",
     "grade": false,
     "grade_id": "cell-8edeb2b314629e7e",
     "locked": true,
     "schema_version": 3,
     "solution": false,
     "task": false
    }
   },
   "outputs": [],
   "source": [
    "from sklearn.metrics import accuracy_score \n",
    "from sklearn.metrics import confusion_matrix \n",
    "from sklearn.metrics import classification_report \n",
    "\n",
    "# Function to calculate accuracy \n",
    "def cal_accuracy(y_test, y_pred): \n",
    "      \n",
    "    print(\"* Confusion Matrix\") \n",
    "    print(pd.DataFrame(confusion_matrix(y_test, y_pred), \\\n",
    "            index = ['Actual Pasien Liver', 'Actual Pasien Non-Liver'], \\\n",
    "            columns = ['Pred Pasien Liver', 'Pred Pasien Non-Liver'])) \n",
    "      \n",
    "    print (\"\\n* Accuracy : \", \n",
    "    accuracy_score(y_test,y_pred)*100) \n",
    "      \n",
    "    print(\"\\n* Classification Report :\\n\", \n",
    "    classification_report(y_test, y_pred)) "
   ]
  },
  {
   "cell_type": "code",
   "execution_count": 147,
   "metadata": {
    "deletable": false,
    "editable": false,
    "nbgrader": {
     "cell_type": "code",
     "checksum": "b63803c1d167d403cf54d95d4cea7957",
     "grade": false,
     "grade_id": "cell-51bb484624f4a2a5",
     "locked": true,
     "schema_version": 3,
     "solution": false,
     "task": false
    }
   },
   "outputs": [],
   "source": [
    "logreg_y_predict = (logreg_model.predict(x_val_clf))"
   ]
  },
  {
   "cell_type": "code",
   "execution_count": 148,
   "metadata": {
    "deletable": false,
    "editable": false,
    "nbgrader": {
     "cell_type": "code",
     "checksum": "e2bbbcffb60cdd1c7c86f98a7679a834",
     "grade": false,
     "grade_id": "cell-634eba5457d6c63e",
     "locked": true,
     "schema_version": 3,
     "solution": false,
     "task": false
    }
   },
   "outputs": [
    {
     "name": "stdout",
     "output_type": "stream",
     "text": [
      "* Confusion Matrix\n",
      "                         Pred Pasien Liver  Pred Pasien Non-Liver\n",
      "Actual Pasien Liver                     19                     17\n",
      "Actual Pasien Non-Liver                 13                     27\n",
      "\n",
      "* Accuracy :  60.526315789473685\n",
      "\n",
      "* Classification Report :\n",
      "               precision    recall  f1-score   support\n",
      "\n",
      "         0.0       0.59      0.53      0.56        36\n",
      "         1.0       0.61      0.68      0.64        40\n",
      "\n",
      "    accuracy                           0.61        76\n",
      "   macro avg       0.60      0.60      0.60        76\n",
      "weighted avg       0.60      0.61      0.60        76\n",
      "\n"
     ]
    }
   ],
   "source": [
    "cal_accuracy(y_val_clf, logreg_y_predict)"
   ]
  },
  {
   "cell_type": "markdown",
   "metadata": {
    "deletable": false,
    "editable": false,
    "nbgrader": {
     "cell_type": "markdown",
     "checksum": "18ca4caeb2e5eb19e2e88c24e4791929",
     "grade": false,
     "grade_id": "SOAL-4",
     "locked": true,
     "schema_version": 3,
     "solution": false,
     "task": false
    }
   },
   "source": [
    "## Soal 4  \n",
    "### Analisis Logistic Regression (5 poin)\n",
    "1. Jelaskan secara singkat analisis Anda terhadap hasil Logistic Regression yang didapatkan\n",
    "2. Jelaskan secara singkat perbedaan hasil evaluasi dari Decision Tree pada PR 1 dan Logistic Regression yang didapatkan pada soal 3 dan mengapa perbedaan tersebut bisa terjadi"
   ]
  },
  {
   "cell_type": "markdown",
   "metadata": {},
   "source": [
    "## JAWABAN\n",
    "\n",
    "1. Dari learning rate yang sama, banyaknya jumlah iterasi belum tentu akan menjadikan akurasi yang tinggi. Sedangkan, jika learning rate nya kecil, maka dibutuhkan iterasi yang lebih banyak untuk menghasilkan akurasi yang lebih tinggi\n",
    "2. Hasil evalaluasi menggunakan Decision Tree menunjukkan angka akurasi yang lebih baik dibandingkan menggunakan Logistic Regression. Hal ini dikarenakan dataset yang ada memiliki dimensi lebih dari dua. Dimana decision tree membagi wilayah yang lebih keci dan lebih kecil lagi, sedangkan pada Logistic Regression cocokya untuk membagi ruang(kelompok) tepat menjadi 2\n",
    "\n",
    "sources: \n",
    "- https://blog.bigml.com/2016/09/28/logistic-regression-versus-decision-trees/\n"
   ]
  },
  {
   "cell_type": "code",
   "execution_count": null,
   "metadata": {},
   "outputs": [],
   "source": []
  }
 ],
 "metadata": {
  "kernelspec": {
   "display_name": "Python 3",
   "language": "python",
   "name": "python3"
  },
  "language_info": {
   "codemirror_mode": {
    "name": "ipython",
    "version": 3
   },
   "file_extension": ".py",
   "mimetype": "text/x-python",
   "name": "python",
   "nbconvert_exporter": "python",
   "pygments_lexer": "ipython3",
   "version": "3.7.3"
  }
 },
 "nbformat": 4,
 "nbformat_minor": 4
}
